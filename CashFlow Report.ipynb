{
 "cells": [
  {
   "cell_type": "markdown",
   "id": "1a636852",
   "metadata": {},
   "source": [
    "<h1 style=\"margin-left:25%; font-style:bold; font-size:40px;\"> Cash Flow - Analysis </h1>"
   ]
  },
  {
   "cell_type": "markdown",
   "id": "0df9b27e",
   "metadata": {},
   "source": [
    "<center><img alt=\"Insight logo\" src=\"https://s3.amazonaws.com/mentoring.redesign/s3fs-public/GettyImages-1179202814.jpg\" align=\"center\" hspace=\"10px\" vspace=\"10px\" width=\"1000\" height=\"1100\" ></center>"
   ]
  },
  {
   "cell_type": "markdown",
   "id": "b84075ad",
   "metadata": {},
   "source": [
    "<h1 style=\" font-size:35px; text-decoration:underline;\"> Introduction </h1>"
   ]
  },
  {
   "cell_type": "markdown",
   "id": "6e2f98e6",
   "metadata": {},
   "source": [
    "<hr style=\"width:50%; height:1px; background-color:brown\">"
   ]
  },
  {
   "cell_type": "markdown",
   "id": "b41584ff",
   "metadata": {},
   "source": [
    "<h1 style=\" font-size:33px;\"> About - Project: </h1>"
   ]
  },
  {
   "cell_type": "markdown",
   "id": "d3278563",
   "metadata": {},
   "source": [
    "<p style=\"font-size:20px;\">\n",
    "    This Exploratory data analysis project is part of the requirements to satisfy the student industrial training program. In this analysis, we will be asking the <span style=\";color:brown\"> what</span>,<span style=\"color:brown\"> how</span>, <span style=\"color:brown\"> where</span> and <span style=\"color:brown\"> why </span> questions, in other words, we will be looking for trends.\n",
    "This analysis will be performed using \"python\", and we shall display/visualize correlations or relationships using it's(python's) \"matplotlib\" and \"seaborn\" libraries.\n",
    "    </p>"
   ]
  },
  {
   "cell_type": "markdown",
   "id": "287e989f",
   "metadata": {},
   "source": [
    "<h1 style=\" font-size:33px;\"> About - Dataset: </h1>"
   ]
  },
  {
   "cell_type": "markdown",
   "id": "40ef8912",
   "metadata": {},
   "source": [
    "<p style=\"font-size:20px;\">\n",
    "    This is an organization-wide cash flow dataset, which covers <span style=\"color:brown\"> 12 Points</span> of the organization. The Cash flow data are collected from <span style=\"color:brown\"> 6th of december 2021 </span>to <span style=\"color:brown\"> 6th of may 2022 </span> using a location-garnering web application, or what some may refer to as an API(application programming interface). This web application which is hosted locally, gathers information and actively returns accurate data of each location/point. This dataset contains <span style=\"color:brown\"> 8 Columns </span> and <span style=\"color:brown\"> 1705 rows </span>, it's features include: <span style=\"color:brown\"> name of location </span>,<span style=\"color:brown\"> date of shift</span>,<span style=\"color:brown\"> means of payment </span>,<span style=\"color:brown\"> amount realised</span> and <span style=\"color:brown\"> receipt count </span>. we will be discussing more about this dataset in the sections below.\n",
    "    </p>"
   ]
  },
  {
   "cell_type": "markdown",
   "id": "b7c1c5c0",
   "metadata": {},
   "source": [
    "<hr style=\"width:50%; height:1px; background-color:black\">"
   ]
  },
  {
   "cell_type": "markdown",
   "id": "fec7375c",
   "metadata": {},
   "source": [
    "<h2 style=\"margin-left:50px;font-size:40px;font-family:Yu Mincho Demibold;color:brown\">Basic <span style=\"color:black\">Questions</span>\n",
    "\n",
    "<ul style=\"list-style-type:circle;font-size:20px;\">\n",
    "    <li> <span style=\"color:black\">How much was realised from each location within this period?</span></li>\n",
    "    <li> <span style=\"color:black\">How much was realised by the organization within this period?</span></li>\n",
    "    <li> <span style=\"color:black\">How often were the different payment methods used, and what is the ratio/percentage?</span> </li>\n",
    "    <li> <span style=\"color:black\">How much does realised amount vary between locations? </span></li>\n",
    "     <li> <span style=\"color:black\">Does the realised amount depend on the location? Is there any correlation? </span></li>\n",
    "        <li> <span style=\"color:black\">How much was realised between december and january, and does the festive period impact amount realised?</span></li> \n",
    "and more...\n",
    "\n",
    "</ul>\n",
    "</h2>"
   ]
  },
  {
   "cell_type": "markdown",
   "id": "76fe5abb",
   "metadata": {},
   "source": [
    "<p style=\"font-size:20px;color:black\"> Let's get started!</p>"
   ]
  },
  {
   "cell_type": "code",
   "execution_count": 1,
   "id": "957660c9",
   "metadata": {},
   "outputs": [],
   "source": [
    "import pandas as pd\n",
    "import numpy as np\n",
    "import matplotlib.pyplot as plt\n",
    "import matplotlib.ticker as ticker\n",
    "import matplotlib.patches as mpatches\n",
    "\n",
    "import seaborn as sns\n",
    "\n",
    "import jovian\n",
    "%matplotlib inline\n",
    "sns.set_style('darkgrid')"
   ]
  },
  {
   "cell_type": "code",
   "execution_count": 2,
   "id": "4e34600e",
   "metadata": {},
   "outputs": [],
   "source": [
    "cash_df = pd.read_excel('HSL.xlsx', na_values=['?'])"
   ]
  },
  {
   "cell_type": "markdown",
   "id": "a02e7a4c",
   "metadata": {},
   "source": [
    "<p style=\"font-size:25px;color:brown\"> Data at a glance:</p>"
   ]
  },
  {
   "cell_type": "code",
   "execution_count": 3,
   "id": "8a08f940",
   "metadata": {},
   "outputs": [],
   "source": [
    "df = cash_df"
   ]
  },
  {
   "cell_type": "code",
   "execution_count": 4,
   "id": "c8a66931",
   "metadata": {},
   "outputs": [
    {
     "name": "stdout",
     "output_type": "stream",
     "text": [
      "<class 'pandas.core.frame.DataFrame'>\n",
      "RangeIndex: 1705 entries, 0 to 1704\n",
      "Data columns (total 8 columns):\n",
      " #   Column        Non-Null Count  Dtype  \n",
      "---  ------        --------------  -----  \n",
      " 0   Location      1629 non-null   object \n",
      " 1   ShiftDate     1627 non-null   object \n",
      " 2   Cash          1627 non-null   float64\n",
      " 3   Cheque        1627 non-null   float64\n",
      " 4   POS           1627 non-null   float64\n",
      " 5   MobileMoney   1627 non-null   float64\n",
      " 6   TotalAmount   1627 non-null   float64\n",
      " 7   ReceiptCount  1627 non-null   float64\n",
      "dtypes: float64(6), object(2)\n",
      "memory usage: 106.7+ KB\n"
     ]
    }
   ],
   "source": [
    "cash_df.info()"
   ]
  },
  {
   "cell_type": "code",
   "execution_count": 5,
   "id": "5d7d34be",
   "metadata": {},
   "outputs": [
    {
     "data": {
      "text/html": [
       "<div>\n",
       "<style scoped>\n",
       "    .dataframe tbody tr th:only-of-type {\n",
       "        vertical-align: middle;\n",
       "    }\n",
       "\n",
       "    .dataframe tbody tr th {\n",
       "        vertical-align: top;\n",
       "    }\n",
       "\n",
       "    .dataframe thead th {\n",
       "        text-align: right;\n",
       "    }\n",
       "</style>\n",
       "<table border=\"1\" class=\"dataframe\">\n",
       "  <thead>\n",
       "    <tr style=\"text-align: right;\">\n",
       "      <th></th>\n",
       "      <th>Cash</th>\n",
       "      <th>Cheque</th>\n",
       "      <th>POS</th>\n",
       "      <th>MobileMoney</th>\n",
       "      <th>TotalAmount</th>\n",
       "      <th>ReceiptCount</th>\n",
       "    </tr>\n",
       "  </thead>\n",
       "  <tbody>\n",
       "    <tr>\n",
       "      <th>count</th>\n",
       "      <td>1.627000e+03</td>\n",
       "      <td>1627.000000</td>\n",
       "      <td>1627.000000</td>\n",
       "      <td>1627.0</td>\n",
       "      <td>1.627000e+03</td>\n",
       "      <td>1627.000000</td>\n",
       "    </tr>\n",
       "    <tr>\n",
       "      <th>mean</th>\n",
       "      <td>2.063525e+05</td>\n",
       "      <td>878.103258</td>\n",
       "      <td>3605.605058</td>\n",
       "      <td>0.0</td>\n",
       "      <td>2.108362e+05</td>\n",
       "      <td>52.151199</td>\n",
       "    </tr>\n",
       "    <tr>\n",
       "      <th>std</th>\n",
       "      <td>2.491053e+05</td>\n",
       "      <td>25139.635517</td>\n",
       "      <td>30837.078592</td>\n",
       "      <td>0.0</td>\n",
       "      <td>2.557110e+05</td>\n",
       "      <td>46.616799</td>\n",
       "    </tr>\n",
       "    <tr>\n",
       "      <th>min</th>\n",
       "      <td>2.000000e+02</td>\n",
       "      <td>0.000000</td>\n",
       "      <td>0.000000</td>\n",
       "      <td>0.0</td>\n",
       "      <td>2.000000e+02</td>\n",
       "      <td>1.000000</td>\n",
       "    </tr>\n",
       "    <tr>\n",
       "      <th>25%</th>\n",
       "      <td>4.268646e+04</td>\n",
       "      <td>0.000000</td>\n",
       "      <td>0.000000</td>\n",
       "      <td>0.0</td>\n",
       "      <td>4.285855e+04</td>\n",
       "      <td>16.000000</td>\n",
       "    </tr>\n",
       "    <tr>\n",
       "      <th>50%</th>\n",
       "      <td>1.029448e+05</td>\n",
       "      <td>0.000000</td>\n",
       "      <td>0.000000</td>\n",
       "      <td>0.0</td>\n",
       "      <td>1.048072e+05</td>\n",
       "      <td>32.000000</td>\n",
       "    </tr>\n",
       "    <tr>\n",
       "      <th>75%</th>\n",
       "      <td>2.851495e+05</td>\n",
       "      <td>0.000000</td>\n",
       "      <td>0.000000</td>\n",
       "      <td>0.0</td>\n",
       "      <td>2.890657e+05</td>\n",
       "      <td>82.000000</td>\n",
       "    </tr>\n",
       "    <tr>\n",
       "      <th>max</th>\n",
       "      <td>2.597121e+06</td>\n",
       "      <td>778888.900000</td>\n",
       "      <td>676733.060000</td>\n",
       "      <td>0.0</td>\n",
       "      <td>2.597121e+06</td>\n",
       "      <td>227.000000</td>\n",
       "    </tr>\n",
       "  </tbody>\n",
       "</table>\n",
       "</div>"
      ],
      "text/plain": [
       "               Cash         Cheque            POS  MobileMoney   TotalAmount  \\\n",
       "count  1.627000e+03    1627.000000    1627.000000       1627.0  1.627000e+03   \n",
       "mean   2.063525e+05     878.103258    3605.605058          0.0  2.108362e+05   \n",
       "std    2.491053e+05   25139.635517   30837.078592          0.0  2.557110e+05   \n",
       "min    2.000000e+02       0.000000       0.000000          0.0  2.000000e+02   \n",
       "25%    4.268646e+04       0.000000       0.000000          0.0  4.285855e+04   \n",
       "50%    1.029448e+05       0.000000       0.000000          0.0  1.048072e+05   \n",
       "75%    2.851495e+05       0.000000       0.000000          0.0  2.890657e+05   \n",
       "max    2.597121e+06  778888.900000  676733.060000          0.0  2.597121e+06   \n",
       "\n",
       "       ReceiptCount  \n",
       "count   1627.000000  \n",
       "mean      52.151199  \n",
       "std       46.616799  \n",
       "min        1.000000  \n",
       "25%       16.000000  \n",
       "50%       32.000000  \n",
       "75%       82.000000  \n",
       "max      227.000000  "
      ]
     },
     "execution_count": 5,
     "metadata": {},
     "output_type": "execute_result"
    }
   ],
   "source": [
    "cash_df.describe()"
   ]
  },
  {
   "cell_type": "code",
   "execution_count": 6,
   "id": "02c34d5b",
   "metadata": {
    "scrolled": true
   },
   "outputs": [
    {
     "data": {
      "text/plain": [
       "array(['point 1', ' point 1', ' point 2', ' point 3', ' point 4',\n",
       "       ' point 5', ' point 6', ' point 7', ' point 8', ' point 9',\n",
       "       ' point/pharmacy', 'HIsto/MORT \\nPOINT', ' point 10',\n",
       "       'HEART 2 HEART \\nPOINT', nan, 'HIstoPATHOLOGY /\\nMORTUARY',\n",
       "       'HIsto/MORT ', 'POINT', 'ACCIDENT & EMERGENCY\\nPHARMACY',\n",
       "       'GOPD  POINT 3'], dtype=object)"
      ]
     },
     "execution_count": 6,
     "metadata": {},
     "output_type": "execute_result"
    }
   ],
   "source": [
    "cash_df['Location'].unique()"
   ]
  },
  {
   "cell_type": "markdown",
   "id": "58ce5783",
   "metadata": {},
   "source": [
    "<p style=\"font-size:25px;color:brown\"> Data preparation and cleaning:</p>"
   ]
  },
  {
   "cell_type": "code",
   "execution_count": 7,
   "id": "d6aa4e9f",
   "metadata": {},
   "outputs": [],
   "source": [
    "#shuffling the dataframe\n",
    "\n",
    "df = df.sample(frac=1)"
   ]
  },
  {
   "cell_type": "code",
   "execution_count": 8,
   "id": "3d981515",
   "metadata": {},
   "outputs": [],
   "source": [
    "df= df.dropna(axis=0)\n"
   ]
  },
  {
   "cell_type": "code",
   "execution_count": 9,
   "id": "18e30484",
   "metadata": {},
   "outputs": [
    {
     "data": {
      "text/html": [
       "<div>\n",
       "<style scoped>\n",
       "    .dataframe tbody tr th:only-of-type {\n",
       "        vertical-align: middle;\n",
       "    }\n",
       "\n",
       "    .dataframe tbody tr th {\n",
       "        vertical-align: top;\n",
       "    }\n",
       "\n",
       "    .dataframe thead th {\n",
       "        text-align: right;\n",
       "    }\n",
       "</style>\n",
       "<table border=\"1\" class=\"dataframe\">\n",
       "  <thead>\n",
       "    <tr style=\"text-align: right;\">\n",
       "      <th></th>\n",
       "      <th>Location</th>\n",
       "      <th>ShiftDate</th>\n",
       "      <th>Cash</th>\n",
       "      <th>Cheque</th>\n",
       "      <th>POS</th>\n",
       "      <th>MobileMoney</th>\n",
       "      <th>TotalAmount</th>\n",
       "      <th>ReceiptCount</th>\n",
       "    </tr>\n",
       "  </thead>\n",
       "  <tbody>\n",
       "  </tbody>\n",
       "</table>\n",
       "</div>"
      ],
      "text/plain": [
       "Empty DataFrame\n",
       "Columns: [Location, ShiftDate, Cash, Cheque, POS, MobileMoney, TotalAmount, ReceiptCount]\n",
       "Index: []"
      ]
     },
     "execution_count": 9,
     "metadata": {},
     "output_type": "execute_result"
    }
   ],
   "source": [
    "df.loc[df['Location']=='POINT']"
   ]
  },
  {
   "cell_type": "code",
   "execution_count": 10,
   "id": "c42b3569",
   "metadata": {},
   "outputs": [
    {
     "data": {
      "text/plain": [
       "array([' point 9', ' point 6', ' point 5', ' point 1', ' point 8',\n",
       "       'HIsto/MORT \\nPOINT', ' point 7', ' point 10',\n",
       "       'HEART 2 HEART \\nPOINT', ' point 4', ' point 2', ' point 3',\n",
       "       'GOPD  POINT 3', 'HIsto/MORT ', 'HIstoPATHOLOGY /\\nMORTUARY',\n",
       "       'ACCIDENT & EMERGENCY\\nPHARMACY', ' point/pharmacy', 'point 1'],\n",
       "      dtype=object)"
      ]
     },
     "execution_count": 10,
     "metadata": {},
     "output_type": "execute_result"
    }
   ],
   "source": [
    "df.Location.unique()"
   ]
  },
  {
   "cell_type": "code",
   "execution_count": 37,
   "id": "f4ab4995",
   "metadata": {},
   "outputs": [],
   "source": [
    "cash_df['ShiftDate']=pd.to_datetime(cash_df['ShiftDate'], infer_datetime_format=True)"
   ]
  },
  {
   "cell_type": "code",
   "execution_count": 12,
   "id": "7cac5279",
   "metadata": {},
   "outputs": [
    {
     "data": {
      "text/plain": [
       "0      2021-06-12\n",
       "1      2021-06-12\n",
       "2      2021-06-12\n",
       "3      2021-06-12\n",
       "4      2021-06-12\n",
       "          ...    \n",
       "1700   2022-06-05\n",
       "1701   2022-06-05\n",
       "1702   2022-06-05\n",
       "1703   2022-06-05\n",
       "1704   2022-06-05\n",
       "Name: ShiftDate, Length: 1705, dtype: datetime64[ns]"
      ]
     },
     "execution_count": 12,
     "metadata": {},
     "output_type": "execute_result"
    }
   ],
   "source": [
    "cash_df['ShiftDate']"
   ]
  },
  {
   "cell_type": "code",
   "execution_count": null,
   "id": "1224f0da",
   "metadata": {},
   "outputs": [],
   "source": []
  },
  {
   "cell_type": "markdown",
   "id": "8fc07395",
   "metadata": {},
   "source": [
    "<p style=\"font-size:25px;color:brown\">Exploratory data analysis:</p>"
   ]
  },
  {
   "cell_type": "code",
   "execution_count": 13,
   "id": "790cbd6a",
   "metadata": {},
   "outputs": [
    {
     "data": {
      "text/html": [
       "<div>\n",
       "<style scoped>\n",
       "    .dataframe tbody tr th:only-of-type {\n",
       "        vertical-align: middle;\n",
       "    }\n",
       "\n",
       "    .dataframe tbody tr th {\n",
       "        vertical-align: top;\n",
       "    }\n",
       "\n",
       "    .dataframe thead th {\n",
       "        text-align: right;\n",
       "    }\n",
       "</style>\n",
       "<table border=\"1\" class=\"dataframe\">\n",
       "  <thead>\n",
       "    <tr style=\"text-align: right;\">\n",
       "      <th></th>\n",
       "      <th>Location</th>\n",
       "      <th>TotalAmount</th>\n",
       "    </tr>\n",
       "  </thead>\n",
       "  <tbody>\n",
       "    <tr>\n",
       "      <th>835</th>\n",
       "      <td>point 9</td>\n",
       "      <td>3445.00</td>\n",
       "    </tr>\n",
       "    <tr>\n",
       "      <th>40</th>\n",
       "      <td>point 6</td>\n",
       "      <td>45460.00</td>\n",
       "    </tr>\n",
       "    <tr>\n",
       "      <th>19</th>\n",
       "      <td>point 5</td>\n",
       "      <td>260000.00</td>\n",
       "    </tr>\n",
       "    <tr>\n",
       "      <th>668</th>\n",
       "      <td>point 1</td>\n",
       "      <td>253753.80</td>\n",
       "    </tr>\n",
       "    <tr>\n",
       "      <th>1025</th>\n",
       "      <td>point 1</td>\n",
       "      <td>153352.00</td>\n",
       "    </tr>\n",
       "    <tr>\n",
       "      <th>...</th>\n",
       "      <td>...</td>\n",
       "      <td>...</td>\n",
       "    </tr>\n",
       "    <tr>\n",
       "      <th>377</th>\n",
       "      <td>point 7</td>\n",
       "      <td>66697.84</td>\n",
       "    </tr>\n",
       "    <tr>\n",
       "      <th>976</th>\n",
       "      <td>point 8</td>\n",
       "      <td>25514.39</td>\n",
       "    </tr>\n",
       "    <tr>\n",
       "      <th>292</th>\n",
       "      <td>point 1</td>\n",
       "      <td>51467.00</td>\n",
       "    </tr>\n",
       "    <tr>\n",
       "      <th>949</th>\n",
       "      <td>point 1</td>\n",
       "      <td>55116.00</td>\n",
       "    </tr>\n",
       "    <tr>\n",
       "      <th>866</th>\n",
       "      <td>point 2</td>\n",
       "      <td>714439.52</td>\n",
       "    </tr>\n",
       "  </tbody>\n",
       "</table>\n",
       "<p>1627 rows × 2 columns</p>\n",
       "</div>"
      ],
      "text/plain": [
       "      Location  TotalAmount\n",
       "835    point 9      3445.00\n",
       "40     point 6     45460.00\n",
       "19     point 5    260000.00\n",
       "668    point 1    253753.80\n",
       "1025   point 1    153352.00\n",
       "...        ...          ...\n",
       "377    point 7     66697.84\n",
       "976    point 8     25514.39\n",
       "292    point 1     51467.00\n",
       "949    point 1     55116.00\n",
       "866    point 2    714439.52\n",
       "\n",
       "[1627 rows x 2 columns]"
      ]
     },
     "execution_count": 13,
     "metadata": {},
     "output_type": "execute_result"
    }
   ],
   "source": [
    "df[['Location', 'TotalAmount']]"
   ]
  },
  {
   "cell_type": "code",
   "execution_count": 14,
   "id": "3925eb53",
   "metadata": {},
   "outputs": [],
   "source": [
    "import matplotlib\n",
    "matplotlib.rcParams['font.size']=14\n",
    "matplotlib.rcParams['figure.figsize']=(9,5)\n",
    "matplotlib.rcParams['figure.facecolor']= '#00000000'"
   ]
  },
  {
   "cell_type": "code",
   "execution_count": 15,
   "id": "62e18a37",
   "metadata": {},
   "outputs": [
    {
     "data": {
      "text/plain": [
       "343030441.28000003"
      ]
     },
     "execution_count": 15,
     "metadata": {},
     "output_type": "execute_result"
    }
   ],
   "source": [
    "t_sum = df['TotalAmount'].sum()\n",
    "t_mean = df['TotalAmount'].mean()\n",
    "t_sum"
   ]
  },
  {
   "cell_type": "markdown",
   "id": "166d5cb9",
   "metadata": {},
   "source": [
    "<p><img alt=\"Insight logo\" src=\"https://drive.google.com/uc?export=view&id=15uX4fnuDMuki2xAnjK8wv-ifJhAkBtJ2\" align=\"left\" hspace=\"10px\" vspace=\"0px\"></p>\n",
    "<ul style=\"list-style-type:none;\">\n",
    "  <li style=\"font-weight: bold;font-family:'Times New Roman';font-size:30px;font-style: italic;color:  teal\">Insights:</li>\n",
    "</ul>\n",
    "\n",
    "<div class=\"alert alert-info\" role=\"alert\">\n",
    "<ul style=\"list-style-type:none;font-family:Yu Mincho Demibold;font-size:20px;color:  black\">\n",
    "<li>1. The total amount realised within this period was <span style=\"font-weight: bold; color:black;\">343,030,441.28(Three hundred and 43 million, three hundred and four thousand, fourty one naira, twenty eight kobo.)</span>\n",
    "<br>\n",
    "</div>"
   ]
  },
  {
   "cell_type": "code",
   "execution_count": 16,
   "id": "c8edae11",
   "metadata": {},
   "outputs": [
    {
     "data": {
      "text/plain": [
       " point 1                          600\n",
       " point 4                          108\n",
       " point 5                          106\n",
       " point 2                          106\n",
       " point 7                          104\n",
       " point 10                         101\n",
       " point 6                           91\n",
       " point 8                           91\n",
       " point 9                           83\n",
       "HEART 2 HEART \\nPOINT              77\n",
       " point 3                           75\n",
       "HIsto/MORT \\nPOINT                 41\n",
       "GOPD  POINT 3                      35\n",
       " point/pharmacy                     3\n",
       "HIsto/MORT                          2\n",
       "ACCIDENT & EMERGENCY\\nPHARMACY      2\n",
       "HIstoPATHOLOGY /\\nMORTUARY          1\n",
       "point 1                             1\n",
       "Name: Location, dtype: int64"
      ]
     },
     "execution_count": 16,
     "metadata": {},
     "output_type": "execute_result"
    }
   ],
   "source": [
    "loc_pie=df['Location'].value_counts()\n",
    "loc_pie"
   ]
  },
  {
   "cell_type": "code",
   "execution_count": 17,
   "id": "a59df267",
   "metadata": {},
   "outputs": [
    {
     "data": {
      "text/html": [
       "<div>\n",
       "<style scoped>\n",
       "    .dataframe tbody tr th:only-of-type {\n",
       "        vertical-align: middle;\n",
       "    }\n",
       "\n",
       "    .dataframe tbody tr th {\n",
       "        vertical-align: top;\n",
       "    }\n",
       "\n",
       "    .dataframe thead th {\n",
       "        text-align: right;\n",
       "    }\n",
       "</style>\n",
       "<table border=\"1\" class=\"dataframe\">\n",
       "  <thead>\n",
       "    <tr style=\"text-align: right;\">\n",
       "      <th></th>\n",
       "      <th>index</th>\n",
       "      <th>Location</th>\n",
       "    </tr>\n",
       "  </thead>\n",
       "  <tbody>\n",
       "    <tr>\n",
       "      <th>0</th>\n",
       "      <td>point 1</td>\n",
       "      <td>600</td>\n",
       "    </tr>\n",
       "    <tr>\n",
       "      <th>1</th>\n",
       "      <td>point 4</td>\n",
       "      <td>108</td>\n",
       "    </tr>\n",
       "    <tr>\n",
       "      <th>2</th>\n",
       "      <td>point 5</td>\n",
       "      <td>106</td>\n",
       "    </tr>\n",
       "    <tr>\n",
       "      <th>3</th>\n",
       "      <td>point 2</td>\n",
       "      <td>106</td>\n",
       "    </tr>\n",
       "    <tr>\n",
       "      <th>4</th>\n",
       "      <td>point 7</td>\n",
       "      <td>104</td>\n",
       "    </tr>\n",
       "    <tr>\n",
       "      <th>5</th>\n",
       "      <td>point 10</td>\n",
       "      <td>101</td>\n",
       "    </tr>\n",
       "    <tr>\n",
       "      <th>6</th>\n",
       "      <td>point 6</td>\n",
       "      <td>91</td>\n",
       "    </tr>\n",
       "    <tr>\n",
       "      <th>7</th>\n",
       "      <td>point 8</td>\n",
       "      <td>91</td>\n",
       "    </tr>\n",
       "    <tr>\n",
       "      <th>8</th>\n",
       "      <td>point 9</td>\n",
       "      <td>83</td>\n",
       "    </tr>\n",
       "    <tr>\n",
       "      <th>9</th>\n",
       "      <td>HEART 2 HEART \\nPOINT</td>\n",
       "      <td>77</td>\n",
       "    </tr>\n",
       "  </tbody>\n",
       "</table>\n",
       "</div>"
      ],
      "text/plain": [
       "                   index  Location\n",
       "0                point 1       600\n",
       "1                point 4       108\n",
       "2                point 5       106\n",
       "3                point 2       106\n",
       "4                point 7       104\n",
       "5               point 10       101\n",
       "6                point 6        91\n",
       "7                point 8        91\n",
       "8                point 9        83\n",
       "9  HEART 2 HEART \\nPOINT        77"
      ]
     },
     "execution_count": 17,
     "metadata": {},
     "output_type": "execute_result"
    }
   ],
   "source": [
    "loc_bar= df['Location'].value_counts().reset_index().head(10)\n",
    "loc_bar"
   ]
  },
  {
   "cell_type": "code",
   "execution_count": 18,
   "id": "cc0a121e",
   "metadata": {},
   "outputs": [
    {
     "data": {
      "image/png": "[encoded data removed]",
      "text/plain": [
       "<Figure size 1008x504 with 1 Axes>"
      ]
     },
     "metadata": {
      "needs_background": "light"
     },
     "output_type": "display_data"
    }
   ],
   "source": [
    "plt.figure(figsize=(14,7));\n",
    "ax=sns.barplot(y=loc_bar['Location'], x=loc_bar['index'], palette='summer');\n",
    "sns.lineplot(data = loc_bar, marker='o', x='index', y='Location', color = 'brown', alpha = .5);\n",
    "\n",
    "ax.tick_params(axis='y', which='major', labelsize=15.6);\n",
    "ax.tick_params(axis='x', which='major', labelsize=14.6, rotation=10);\n",
    "\n",
    "plt.title('\\nMost visited cash points in the organization\\n', size=20, color='grey');\n",
    "\n",
    "ax.set_xlabel('\\nCash points\\n', fontsize=20, color='grey');\n",
    "ax.set_ylabel('\\nFrequency\\n', fontsize=20, color='grey');\n"
   ]
  },
  {
   "cell_type": "markdown",
   "id": "d7dd1796",
   "metadata": {},
   "source": [
    "<p><img alt=\"Insight logo\" src=\"https://drive.google.com/uc?export=view&id=15uX4fnuDMuki2xAnjK8wv-ifJhAkBtJ2\" align=\"left\" hspace=\"10px\" vspace=\"0px\"></p>\n",
    "<ul style=\"list-style-type:none;\">\n",
    "  <li style=\"font-weight: bold;font-family:'Times New Roman';font-size:30px;font-style: italic;color:  teal\">Insights:</li>\n",
    "</ul>\n",
    "\n",
    "<div class=\"alert alert-info\" role=\"alert\">\n",
    "<ul style=\"list-style-type:none;font-family:Yu Mincho Demibold;font-size:20px;color:  black\">\n",
    "<li>2. <span style=\"font-weight: bold; color:black;\">Point 1</span> was the most visited within this period with <span style=\"font-weight: bold; color:black;\">600</span> visitations.</li>\n",
    "<br>\n",
    "    <li>3. <span style=\"font-weight: bold; color:black;\">HEART 2 HEART POINT</span> was the least visited within this period with a little below <span style=\"font-weight: bold; color:black;\">100</span> visitations.</li>\n",
    "<br>\n",
    "    </ul>\n",
    "</div>"
   ]
  },
  {
   "cell_type": "code",
   "execution_count": 19,
   "id": "8f76bc33",
   "metadata": {},
   "outputs": [
    {
     "data": {
      "text/html": [
       "<div>\n",
       "<style scoped>\n",
       "    .dataframe tbody tr th:only-of-type {\n",
       "        vertical-align: middle;\n",
       "    }\n",
       "\n",
       "    .dataframe tbody tr th {\n",
       "        vertical-align: top;\n",
       "    }\n",
       "\n",
       "    .dataframe thead th {\n",
       "        text-align: right;\n",
       "    }\n",
       "</style>\n",
       "<table border=\"1\" class=\"dataframe\">\n",
       "  <thead>\n",
       "    <tr style=\"text-align: right;\">\n",
       "      <th></th>\n",
       "      <th>Location</th>\n",
       "      <th>TotalAmount</th>\n",
       "    </tr>\n",
       "  </thead>\n",
       "  <tbody>\n",
       "    <tr>\n",
       "      <th>0</th>\n",
       "      <td>point 1</td>\n",
       "      <td>1.539359e+08</td>\n",
       "    </tr>\n",
       "    <tr>\n",
       "      <th>1</th>\n",
       "      <td>point 2</td>\n",
       "      <td>6.574514e+07</td>\n",
       "    </tr>\n",
       "    <tr>\n",
       "      <th>2</th>\n",
       "      <td>point 10</td>\n",
       "      <td>4.513262e+07</td>\n",
       "    </tr>\n",
       "    <tr>\n",
       "      <th>3</th>\n",
       "      <td>point 5</td>\n",
       "      <td>1.750260e+07</td>\n",
       "    </tr>\n",
       "    <tr>\n",
       "      <th>4</th>\n",
       "      <td>point 3</td>\n",
       "      <td>1.222921e+07</td>\n",
       "    </tr>\n",
       "    <tr>\n",
       "      <th>5</th>\n",
       "      <td>point 9</td>\n",
       "      <td>1.144492e+07</td>\n",
       "    </tr>\n",
       "    <tr>\n",
       "      <th>6</th>\n",
       "      <td>point 4</td>\n",
       "      <td>8.282338e+06</td>\n",
       "    </tr>\n",
       "    <tr>\n",
       "      <th>7</th>\n",
       "      <td>GOPD  POINT 3</td>\n",
       "      <td>6.809917e+06</td>\n",
       "    </tr>\n",
       "    <tr>\n",
       "      <th>8</th>\n",
       "      <td>point 7</td>\n",
       "      <td>6.648042e+06</td>\n",
       "    </tr>\n",
       "    <tr>\n",
       "      <th>9</th>\n",
       "      <td>point 8</td>\n",
       "      <td>6.584576e+06</td>\n",
       "    </tr>\n",
       "  </tbody>\n",
       "</table>\n",
       "</div>"
      ],
      "text/plain": [
       "        Location   TotalAmount\n",
       "0        point 1  1.539359e+08\n",
       "1        point 2  6.574514e+07\n",
       "2       point 10  4.513262e+07\n",
       "3        point 5  1.750260e+07\n",
       "4        point 3  1.222921e+07\n",
       "5        point 9  1.144492e+07\n",
       "6        point 4  8.282338e+06\n",
       "7  GOPD  POINT 3  6.809917e+06\n",
       "8        point 7  6.648042e+06\n",
       "9        point 8  6.584576e+06"
      ]
     },
     "execution_count": 19,
     "metadata": {},
     "output_type": "execute_result"
    }
   ],
   "source": [
    "sum_df = df.groupby('Location')[['TotalAmount']].sum()\n",
    "sums_df=sum_df.sort_values('TotalAmount', ascending= False).head(10).reset_index()\n",
    "sums_df"
   ]
  },
  {
   "cell_type": "code",
   "execution_count": 20,
   "id": "2da8a64a",
   "metadata": {},
   "outputs": [
    {
     "data": {
      "image/png": "[encoded data removed]",
      "text/plain": [
       "<Figure size 800x640 with 1 Axes>"
      ]
     },
     "metadata": {
      "needs_background": "light"
     },
     "output_type": "display_data"
    }
   ],
   "source": [
    "fig, ax = plt.subplots(figsize = (10,8), dpi = 80)\n",
    "\n",
    "ax=sns.barplot(x=sums_df['Location'], y=sums_df['TotalAmount'], palette='autumn');\n",
    "sns.lineplot(data = loc_bar, marker='o', x='index', y='Location', color = 'brown', alpha = .5);\n",
    "\n",
    "ax.tick_params(axis='y', which='major', labelsize=15.6);\n",
    "ax.tick_params(axis='x', which='major', labelsize=12.6, rotation=10);\n",
    "\n",
    "plt.title('\\nTotal Revenue.\\n', size=20, color='grey');\n",
    "\n",
    "total = sums_df.shape[0]\n",
    "for i in ax.patches:\n",
    "    ax.text(i.get_x()+0.0, i.get_height()-10000, \\\n",
    "            str(round((i.get_height()/t_sum)*100, 2))+'%', fontsize=15,weight='bold',\n",
    "                color='black', alpha=0.5)\n",
    "\n",
    "ax.set_xlabel('\\nCash points\\n', fontsize=20, color='grey');\n",
    "ax.set_ylabel('\\nTotal Amount (in millions)\\n', fontsize=20, color='grey');"
   ]
  },
  {
   "cell_type": "markdown",
   "id": "0b2a36a6",
   "metadata": {},
   "source": [
    "<p><img alt=\"Insight logo\" src=\"https://drive.google.com/uc?export=view&id=15uX4fnuDMuki2xAnjK8wv-ifJhAkBtJ2\" align=\"left\" hspace=\"10px\" vspace=\"0px\"></p>\n",
    "<ul style=\"list-style-type:none;\">\n",
    "  <li style=\"font-weight: bold;font-family:'Times New Roman';font-size:30px;font-style: italic;color:  teal\">Insights:</li>\n",
    "</ul>\n",
    "\n",
    "<div class=\"alert alert-info\" role=\"alert\">\n",
    "<ul style=\"list-style-type:none;font-family:Yu Mincho Demibold;font-size:20px;color:  black\">\n",
    "<li>4. <span style=\"font-weight: bold; color:black;\"> Point 1</span> had <span style=\"font-weight: bold; color:black;\">44.88%</span> of all the revenue that was generated within these period, with over <span style=\"font-weight: bold; color:black;\">100,000,000</span>.</li> million naira.\n",
    "<br><br>\n",
    "    <li>5. The top three points that generate revenue, can be seen to be <span style=\"font-weight: bold; color:black;\"> point 1</span>,<span style=\"font-weight: bold; color:black;\"> point 2</span> and <span style=\"font-weight: bold; color:black;\"> point 10</span>.</li>\n",
    "<br>\n",
    "    </ul>\n",
    "</div>"
   ]
  },
  {
   "cell_type": "code",
   "execution_count": 21,
   "id": "27fd8843",
   "metadata": {},
   "outputs": [
    {
     "data": {
      "text/html": [
       "<div>\n",
       "<style scoped>\n",
       "    .dataframe tbody tr th:only-of-type {\n",
       "        vertical-align: middle;\n",
       "    }\n",
       "\n",
       "    .dataframe tbody tr th {\n",
       "        vertical-align: top;\n",
       "    }\n",
       "\n",
       "    .dataframe thead th {\n",
       "        text-align: right;\n",
       "    }\n",
       "</style>\n",
       "<table border=\"1\" class=\"dataframe\">\n",
       "  <thead>\n",
       "    <tr style=\"text-align: right;\">\n",
       "      <th></th>\n",
       "      <th>Location</th>\n",
       "      <th>TotalAmount</th>\n",
       "    </tr>\n",
       "  </thead>\n",
       "  <tbody>\n",
       "    <tr>\n",
       "      <th>0</th>\n",
       "      <td>point 2</td>\n",
       "      <td>620237.123208</td>\n",
       "    </tr>\n",
       "    <tr>\n",
       "      <th>1</th>\n",
       "      <td>point 10</td>\n",
       "      <td>446857.664851</td>\n",
       "    </tr>\n",
       "    <tr>\n",
       "      <th>2</th>\n",
       "      <td>point 1</td>\n",
       "      <td>256559.834233</td>\n",
       "    </tr>\n",
       "    <tr>\n",
       "      <th>3</th>\n",
       "      <td>GOPD  POINT 3</td>\n",
       "      <td>194569.046286</td>\n",
       "    </tr>\n",
       "    <tr>\n",
       "      <th>4</th>\n",
       "      <td>point 5</td>\n",
       "      <td>165118.867925</td>\n",
       "    </tr>\n",
       "    <tr>\n",
       "      <th>5</th>\n",
       "      <td>point 3</td>\n",
       "      <td>163056.194800</td>\n",
       "    </tr>\n",
       "    <tr>\n",
       "      <th>6</th>\n",
       "      <td>point 9</td>\n",
       "      <td>137890.638193</td>\n",
       "    </tr>\n",
       "    <tr>\n",
       "      <th>7</th>\n",
       "      <td>point 4</td>\n",
       "      <td>76688.310185</td>\n",
       "    </tr>\n",
       "    <tr>\n",
       "      <th>8</th>\n",
       "      <td>point 8</td>\n",
       "      <td>72357.983297</td>\n",
       "    </tr>\n",
       "    <tr>\n",
       "      <th>9</th>\n",
       "      <td>point 6</td>\n",
       "      <td>64594.580769</td>\n",
       "    </tr>\n",
       "  </tbody>\n",
       "</table>\n",
       "</div>"
      ],
      "text/plain": [
       "        Location    TotalAmount\n",
       "0        point 2  620237.123208\n",
       "1       point 10  446857.664851\n",
       "2        point 1  256559.834233\n",
       "3  GOPD  POINT 3  194569.046286\n",
       "4        point 5  165118.867925\n",
       "5        point 3  163056.194800\n",
       "6        point 9  137890.638193\n",
       "7        point 4   76688.310185\n",
       "8        point 8   72357.983297\n",
       "9        point 6   64594.580769"
      ]
     },
     "execution_count": 21,
     "metadata": {},
     "output_type": "execute_result"
    }
   ],
   "source": [
    "mean_df = df.groupby('Location')[['TotalAmount']].mean()\n",
    "means_df = mean_df.sort_values('TotalAmount', ascending= False).head(10).reset_index()\n",
    "means_df"
   ]
  },
  {
   "cell_type": "code",
   "execution_count": 22,
   "id": "831bc93e",
   "metadata": {},
   "outputs": [
    {
     "data": {
      "image/png": "[encoded data removed]",
      "text/plain": [
       "<Figure size 1008x504 with 1 Axes>"
      ]
     },
     "metadata": {
      "needs_background": "light"
     },
     "output_type": "display_data"
    }
   ],
   "source": [
    "plt.figure(figsize=(14,7));\n",
    "ax=sns.barplot(x=means_df['Location'], y=means_df['TotalAmount'],);\n",
    "sns.lineplot(data = means_df, marker='o', x='Location', y='TotalAmount', color = 'black', alpha = .9);\n",
    "\n",
    "ax.tick_params(axis='y', which='major', labelsize=13.6);\n",
    "ax.tick_params(axis='x', which='major', labelsize=13.6, rotation=10);\n",
    "\n",
    "plt.title('\\nMost visited cash points in the organization\\n', size=20, color='grey');\n",
    "\n",
    "ax.set_xlabel('\\nCash points\\n', fontsize=20, color='grey');\n",
    "ax.set_ylabel('\\nFrequency\\n', fontsize=20, color='grey');"
   ]
  },
  {
   "cell_type": "markdown",
   "id": "35d70afa",
   "metadata": {},
   "source": [
    "<p><img alt=\"Insight logo\" src=\"https://drive.google.com/uc?export=view&id=15uX4fnuDMuki2xAnjK8wv-ifJhAkBtJ2\" align=\"left\" hspace=\"10px\" vspace=\"0px\"></p>\n",
    "<ul style=\"list-style-type:none;\">\n",
    "  <li style=\"font-weight: bold;font-family:'Times New Roman';font-size:30px;font-style: italic;color:  teal\">Insights:</li>\n",
    "</ul>\n",
    "\n",
    "<div class=\"alert alert-info\" role=\"alert\">\n",
    "<ul style=\"list-style-type:none;font-family:Yu Mincho Demibold;font-size:20px;color:  black\">\n",
    "<li>6. On Average, <span style=\"font-weight: bold; color:black;\">point 2</span> generated more money, while <span style=\"font-weight: bold; color:black;\">point 6</span> is in the last position among the top 10.</li>\n",
    "<br>\n",
    "</ul>\n",
    "</div>"
   ]
  },
  {
   "cell_type": "code",
   "execution_count": 23,
   "id": "f60a5d35",
   "metadata": {},
   "outputs": [
    {
     "data": {
      "text/html": [
       "<div>\n",
       "<style scoped>\n",
       "    .dataframe tbody tr th:only-of-type {\n",
       "        vertical-align: middle;\n",
       "    }\n",
       "\n",
       "    .dataframe tbody tr th {\n",
       "        vertical-align: top;\n",
       "    }\n",
       "\n",
       "    .dataframe thead th {\n",
       "        text-align: right;\n",
       "    }\n",
       "</style>\n",
       "<table border=\"1\" class=\"dataframe\">\n",
       "  <thead>\n",
       "    <tr style=\"text-align: right;\">\n",
       "      <th></th>\n",
       "      <th>Location</th>\n",
       "      <th>ShiftDate</th>\n",
       "      <th>Cash</th>\n",
       "      <th>Cheque</th>\n",
       "      <th>POS</th>\n",
       "      <th>MobileMoney</th>\n",
       "      <th>TotalAmount</th>\n",
       "      <th>ReceiptCount</th>\n",
       "    </tr>\n",
       "  </thead>\n",
       "  <tbody>\n",
       "    <tr>\n",
       "      <th>835</th>\n",
       "      <td>point 9</td>\n",
       "      <td>17/2/2022</td>\n",
       "      <td>3445.0</td>\n",
       "      <td>0.0</td>\n",
       "      <td>0.0</td>\n",
       "      <td>0.0</td>\n",
       "      <td>3445.0</td>\n",
       "      <td>2.0</td>\n",
       "    </tr>\n",
       "    <tr>\n",
       "      <th>40</th>\n",
       "      <td>point 6</td>\n",
       "      <td>8/12/2021</td>\n",
       "      <td>45460.0</td>\n",
       "      <td>0.0</td>\n",
       "      <td>0.0</td>\n",
       "      <td>0.0</td>\n",
       "      <td>45460.0</td>\n",
       "      <td>8.0</td>\n",
       "    </tr>\n",
       "    <tr>\n",
       "      <th>19</th>\n",
       "      <td>point 5</td>\n",
       "      <td>7/12/2021</td>\n",
       "      <td>260000.0</td>\n",
       "      <td>0.0</td>\n",
       "      <td>0.0</td>\n",
       "      <td>0.0</td>\n",
       "      <td>260000.0</td>\n",
       "      <td>73.0</td>\n",
       "    </tr>\n",
       "    <tr>\n",
       "      <th>668</th>\n",
       "      <td>point 1</td>\n",
       "      <td>4/2/2022</td>\n",
       "      <td>253753.8</td>\n",
       "      <td>0.0</td>\n",
       "      <td>0.0</td>\n",
       "      <td>0.0</td>\n",
       "      <td>253753.8</td>\n",
       "      <td>133.0</td>\n",
       "    </tr>\n",
       "    <tr>\n",
       "      <th>1025</th>\n",
       "      <td>point 1</td>\n",
       "      <td>4/3/2022</td>\n",
       "      <td>153352.0</td>\n",
       "      <td>0.0</td>\n",
       "      <td>0.0</td>\n",
       "      <td>0.0</td>\n",
       "      <td>153352.0</td>\n",
       "      <td>26.0</td>\n",
       "    </tr>\n",
       "  </tbody>\n",
       "</table>\n",
       "</div>"
      ],
      "text/plain": [
       "      Location  ShiftDate      Cash  Cheque  POS  MobileMoney  TotalAmount  \\\n",
       "835    point 9  17/2/2022    3445.0     0.0  0.0          0.0       3445.0   \n",
       "40     point 6  8/12/2021   45460.0     0.0  0.0          0.0      45460.0   \n",
       "19     point 5  7/12/2021  260000.0     0.0  0.0          0.0     260000.0   \n",
       "668    point 1   4/2/2022  253753.8     0.0  0.0          0.0     253753.8   \n",
       "1025   point 1   4/3/2022  153352.0     0.0  0.0          0.0     153352.0   \n",
       "\n",
       "      ReceiptCount  \n",
       "835            2.0  \n",
       "40             8.0  \n",
       "19            73.0  \n",
       "668          133.0  \n",
       "1025          26.0  "
      ]
     },
     "execution_count": 23,
     "metadata": {},
     "output_type": "execute_result"
    }
   ],
   "source": [
    "df.head()"
   ]
  },
  {
   "cell_type": "code",
   "execution_count": 24,
   "id": "7fe1bad7",
   "metadata": {},
   "outputs": [],
   "source": [
    "df['ShiftDate']=pd.to_datetime(df['ShiftDate'], infer_datetime_format=True)"
   ]
  },
  {
   "cell_type": "code",
   "execution_count": 25,
   "id": "8ad15ace",
   "metadata": {},
   "outputs": [
    {
     "data": {
      "text/html": [
       "<div>\n",
       "<style scoped>\n",
       "    .dataframe tbody tr th:only-of-type {\n",
       "        vertical-align: middle;\n",
       "    }\n",
       "\n",
       "    .dataframe tbody tr th {\n",
       "        vertical-align: top;\n",
       "    }\n",
       "\n",
       "    .dataframe thead th {\n",
       "        text-align: right;\n",
       "    }\n",
       "</style>\n",
       "<table border=\"1\" class=\"dataframe\">\n",
       "  <thead>\n",
       "    <tr style=\"text-align: right;\">\n",
       "      <th></th>\n",
       "      <th>Location</th>\n",
       "      <th>ShiftDate</th>\n",
       "      <th>Cash</th>\n",
       "      <th>Cheque</th>\n",
       "      <th>POS</th>\n",
       "      <th>MobileMoney</th>\n",
       "      <th>TotalAmount</th>\n",
       "      <th>ReceiptCount</th>\n",
       "    </tr>\n",
       "  </thead>\n",
       "  <tbody>\n",
       "    <tr>\n",
       "      <th>835</th>\n",
       "      <td>point 9</td>\n",
       "      <td>2022-02-17</td>\n",
       "      <td>3445.00</td>\n",
       "      <td>0.0</td>\n",
       "      <td>0.0</td>\n",
       "      <td>0.0</td>\n",
       "      <td>3445.00</td>\n",
       "      <td>2.0</td>\n",
       "    </tr>\n",
       "    <tr>\n",
       "      <th>40</th>\n",
       "      <td>point 6</td>\n",
       "      <td>2021-12-08</td>\n",
       "      <td>45460.00</td>\n",
       "      <td>0.0</td>\n",
       "      <td>0.0</td>\n",
       "      <td>0.0</td>\n",
       "      <td>45460.00</td>\n",
       "      <td>8.0</td>\n",
       "    </tr>\n",
       "    <tr>\n",
       "      <th>19</th>\n",
       "      <td>point 5</td>\n",
       "      <td>2021-12-07</td>\n",
       "      <td>260000.00</td>\n",
       "      <td>0.0</td>\n",
       "      <td>0.0</td>\n",
       "      <td>0.0</td>\n",
       "      <td>260000.00</td>\n",
       "      <td>73.0</td>\n",
       "    </tr>\n",
       "    <tr>\n",
       "      <th>668</th>\n",
       "      <td>point 1</td>\n",
       "      <td>2022-02-04</td>\n",
       "      <td>253753.80</td>\n",
       "      <td>0.0</td>\n",
       "      <td>0.0</td>\n",
       "      <td>0.0</td>\n",
       "      <td>253753.80</td>\n",
       "      <td>133.0</td>\n",
       "    </tr>\n",
       "    <tr>\n",
       "      <th>1025</th>\n",
       "      <td>point 1</td>\n",
       "      <td>2022-03-04</td>\n",
       "      <td>153352.00</td>\n",
       "      <td>0.0</td>\n",
       "      <td>0.0</td>\n",
       "      <td>0.0</td>\n",
       "      <td>153352.00</td>\n",
       "      <td>26.0</td>\n",
       "    </tr>\n",
       "    <tr>\n",
       "      <th>...</th>\n",
       "      <td>...</td>\n",
       "      <td>...</td>\n",
       "      <td>...</td>\n",
       "      <td>...</td>\n",
       "      <td>...</td>\n",
       "      <td>...</td>\n",
       "      <td>...</td>\n",
       "      <td>...</td>\n",
       "    </tr>\n",
       "    <tr>\n",
       "      <th>377</th>\n",
       "      <td>point 7</td>\n",
       "      <td>2022-01-10</td>\n",
       "      <td>66697.84</td>\n",
       "      <td>0.0</td>\n",
       "      <td>0.0</td>\n",
       "      <td>0.0</td>\n",
       "      <td>66697.84</td>\n",
       "      <td>48.0</td>\n",
       "    </tr>\n",
       "    <tr>\n",
       "      <th>976</th>\n",
       "      <td>point 8</td>\n",
       "      <td>2022-03-01</td>\n",
       "      <td>25514.39</td>\n",
       "      <td>0.0</td>\n",
       "      <td>0.0</td>\n",
       "      <td>0.0</td>\n",
       "      <td>25514.39</td>\n",
       "      <td>12.0</td>\n",
       "    </tr>\n",
       "    <tr>\n",
       "      <th>292</th>\n",
       "      <td>point 1</td>\n",
       "      <td>2022-01-02</td>\n",
       "      <td>51467.00</td>\n",
       "      <td>0.0</td>\n",
       "      <td>0.0</td>\n",
       "      <td>0.0</td>\n",
       "      <td>51467.00</td>\n",
       "      <td>32.0</td>\n",
       "    </tr>\n",
       "    <tr>\n",
       "      <th>949</th>\n",
       "      <td>point 1</td>\n",
       "      <td>2022-02-28</td>\n",
       "      <td>55116.00</td>\n",
       "      <td>0.0</td>\n",
       "      <td>0.0</td>\n",
       "      <td>0.0</td>\n",
       "      <td>55116.00</td>\n",
       "      <td>32.0</td>\n",
       "    </tr>\n",
       "    <tr>\n",
       "      <th>866</th>\n",
       "      <td>point 2</td>\n",
       "      <td>2022-02-21</td>\n",
       "      <td>714439.52</td>\n",
       "      <td>0.0</td>\n",
       "      <td>0.0</td>\n",
       "      <td>0.0</td>\n",
       "      <td>714439.52</td>\n",
       "      <td>35.0</td>\n",
       "    </tr>\n",
       "  </tbody>\n",
       "</table>\n",
       "<p>1627 rows × 8 columns</p>\n",
       "</div>"
      ],
      "text/plain": [
       "      Location  ShiftDate       Cash  Cheque  POS  MobileMoney  TotalAmount  \\\n",
       "835    point 9 2022-02-17    3445.00     0.0  0.0          0.0      3445.00   \n",
       "40     point 6 2021-12-08   45460.00     0.0  0.0          0.0     45460.00   \n",
       "19     point 5 2021-12-07  260000.00     0.0  0.0          0.0    260000.00   \n",
       "668    point 1 2022-02-04  253753.80     0.0  0.0          0.0    253753.80   \n",
       "1025   point 1 2022-03-04  153352.00     0.0  0.0          0.0    153352.00   \n",
       "...        ...        ...        ...     ...  ...          ...          ...   \n",
       "377    point 7 2022-01-10   66697.84     0.0  0.0          0.0     66697.84   \n",
       "976    point 8 2022-03-01   25514.39     0.0  0.0          0.0     25514.39   \n",
       "292    point 1 2022-01-02   51467.00     0.0  0.0          0.0     51467.00   \n",
       "949    point 1 2022-02-28   55116.00     0.0  0.0          0.0     55116.00   \n",
       "866    point 2 2022-02-21  714439.52     0.0  0.0          0.0    714439.52   \n",
       "\n",
       "      ReceiptCount  \n",
       "835            2.0  \n",
       "40             8.0  \n",
       "19            73.0  \n",
       "668          133.0  \n",
       "1025          26.0  \n",
       "...            ...  \n",
       "377           48.0  \n",
       "976           12.0  \n",
       "292           32.0  \n",
       "949           32.0  \n",
       "866           35.0  \n",
       "\n",
       "[1627 rows x 8 columns]"
      ]
     },
     "execution_count": 25,
     "metadata": {},
     "output_type": "execute_result"
    }
   ],
   "source": [
    "df['ShiftDate'] = pd.to_datetime(df['ShiftDate'] , format = '%d-%m-%Y')\n",
    "df"
   ]
  },
  {
   "cell_type": "code",
   "execution_count": 26,
   "id": "39ab10cd",
   "metadata": {},
   "outputs": [
    {
     "data": {
      "text/html": [
       "<div>\n",
       "<style scoped>\n",
       "    .dataframe tbody tr th:only-of-type {\n",
       "        vertical-align: middle;\n",
       "    }\n",
       "\n",
       "    .dataframe tbody tr th {\n",
       "        vertical-align: top;\n",
       "    }\n",
       "\n",
       "    .dataframe thead th {\n",
       "        text-align: right;\n",
       "    }\n",
       "</style>\n",
       "<table border=\"1\" class=\"dataframe\">\n",
       "  <thead>\n",
       "    <tr style=\"text-align: right;\">\n",
       "      <th></th>\n",
       "      <th>Location</th>\n",
       "      <th>ShiftDate</th>\n",
       "      <th>Cash</th>\n",
       "      <th>Cheque</th>\n",
       "      <th>POS</th>\n",
       "      <th>MobileMoney</th>\n",
       "      <th>TotalAmount</th>\n",
       "      <th>ReceiptCount</th>\n",
       "      <th>month</th>\n",
       "      <th>day</th>\n",
       "      <th>weekday</th>\n",
       "    </tr>\n",
       "  </thead>\n",
       "  <tbody>\n",
       "    <tr>\n",
       "      <th>835</th>\n",
       "      <td>point 9</td>\n",
       "      <td>2022-02-17</td>\n",
       "      <td>3445.00</td>\n",
       "      <td>0.0</td>\n",
       "      <td>0.0</td>\n",
       "      <td>0.0</td>\n",
       "      <td>3445.00</td>\n",
       "      <td>2.0</td>\n",
       "      <td>2</td>\n",
       "      <td>17</td>\n",
       "      <td>3</td>\n",
       "    </tr>\n",
       "    <tr>\n",
       "      <th>40</th>\n",
       "      <td>point 6</td>\n",
       "      <td>2021-12-08</td>\n",
       "      <td>45460.00</td>\n",
       "      <td>0.0</td>\n",
       "      <td>0.0</td>\n",
       "      <td>0.0</td>\n",
       "      <td>45460.00</td>\n",
       "      <td>8.0</td>\n",
       "      <td>12</td>\n",
       "      <td>8</td>\n",
       "      <td>2</td>\n",
       "    </tr>\n",
       "    <tr>\n",
       "      <th>19</th>\n",
       "      <td>point 5</td>\n",
       "      <td>2021-12-07</td>\n",
       "      <td>260000.00</td>\n",
       "      <td>0.0</td>\n",
       "      <td>0.0</td>\n",
       "      <td>0.0</td>\n",
       "      <td>260000.00</td>\n",
       "      <td>73.0</td>\n",
       "      <td>12</td>\n",
       "      <td>7</td>\n",
       "      <td>1</td>\n",
       "    </tr>\n",
       "    <tr>\n",
       "      <th>668</th>\n",
       "      <td>point 1</td>\n",
       "      <td>2022-02-04</td>\n",
       "      <td>253753.80</td>\n",
       "      <td>0.0</td>\n",
       "      <td>0.0</td>\n",
       "      <td>0.0</td>\n",
       "      <td>253753.80</td>\n",
       "      <td>133.0</td>\n",
       "      <td>2</td>\n",
       "      <td>4</td>\n",
       "      <td>4</td>\n",
       "    </tr>\n",
       "    <tr>\n",
       "      <th>1025</th>\n",
       "      <td>point 1</td>\n",
       "      <td>2022-03-04</td>\n",
       "      <td>153352.00</td>\n",
       "      <td>0.0</td>\n",
       "      <td>0.0</td>\n",
       "      <td>0.0</td>\n",
       "      <td>153352.00</td>\n",
       "      <td>26.0</td>\n",
       "      <td>3</td>\n",
       "      <td>4</td>\n",
       "      <td>4</td>\n",
       "    </tr>\n",
       "    <tr>\n",
       "      <th>...</th>\n",
       "      <td>...</td>\n",
       "      <td>...</td>\n",
       "      <td>...</td>\n",
       "      <td>...</td>\n",
       "      <td>...</td>\n",
       "      <td>...</td>\n",
       "      <td>...</td>\n",
       "      <td>...</td>\n",
       "      <td>...</td>\n",
       "      <td>...</td>\n",
       "      <td>...</td>\n",
       "    </tr>\n",
       "    <tr>\n",
       "      <th>377</th>\n",
       "      <td>point 7</td>\n",
       "      <td>2022-01-10</td>\n",
       "      <td>66697.84</td>\n",
       "      <td>0.0</td>\n",
       "      <td>0.0</td>\n",
       "      <td>0.0</td>\n",
       "      <td>66697.84</td>\n",
       "      <td>48.0</td>\n",
       "      <td>1</td>\n",
       "      <td>10</td>\n",
       "      <td>0</td>\n",
       "    </tr>\n",
       "    <tr>\n",
       "      <th>976</th>\n",
       "      <td>point 8</td>\n",
       "      <td>2022-03-01</td>\n",
       "      <td>25514.39</td>\n",
       "      <td>0.0</td>\n",
       "      <td>0.0</td>\n",
       "      <td>0.0</td>\n",
       "      <td>25514.39</td>\n",
       "      <td>12.0</td>\n",
       "      <td>3</td>\n",
       "      <td>1</td>\n",
       "      <td>1</td>\n",
       "    </tr>\n",
       "    <tr>\n",
       "      <th>292</th>\n",
       "      <td>point 1</td>\n",
       "      <td>2022-01-02</td>\n",
       "      <td>51467.00</td>\n",
       "      <td>0.0</td>\n",
       "      <td>0.0</td>\n",
       "      <td>0.0</td>\n",
       "      <td>51467.00</td>\n",
       "      <td>32.0</td>\n",
       "      <td>1</td>\n",
       "      <td>2</td>\n",
       "      <td>6</td>\n",
       "    </tr>\n",
       "    <tr>\n",
       "      <th>949</th>\n",
       "      <td>point 1</td>\n",
       "      <td>2022-02-28</td>\n",
       "      <td>55116.00</td>\n",
       "      <td>0.0</td>\n",
       "      <td>0.0</td>\n",
       "      <td>0.0</td>\n",
       "      <td>55116.00</td>\n",
       "      <td>32.0</td>\n",
       "      <td>2</td>\n",
       "      <td>28</td>\n",
       "      <td>0</td>\n",
       "    </tr>\n",
       "    <tr>\n",
       "      <th>866</th>\n",
       "      <td>point 2</td>\n",
       "      <td>2022-02-21</td>\n",
       "      <td>714439.52</td>\n",
       "      <td>0.0</td>\n",
       "      <td>0.0</td>\n",
       "      <td>0.0</td>\n",
       "      <td>714439.52</td>\n",
       "      <td>35.0</td>\n",
       "      <td>2</td>\n",
       "      <td>21</td>\n",
       "      <td>0</td>\n",
       "    </tr>\n",
       "  </tbody>\n",
       "</table>\n",
       "<p>1627 rows × 11 columns</p>\n",
       "</div>"
      ],
      "text/plain": [
       "      Location  ShiftDate       Cash  Cheque  POS  MobileMoney  TotalAmount  \\\n",
       "835    point 9 2022-02-17    3445.00     0.0  0.0          0.0      3445.00   \n",
       "40     point 6 2021-12-08   45460.00     0.0  0.0          0.0     45460.00   \n",
       "19     point 5 2021-12-07  260000.00     0.0  0.0          0.0    260000.00   \n",
       "668    point 1 2022-02-04  253753.80     0.0  0.0          0.0    253753.80   \n",
       "1025   point 1 2022-03-04  153352.00     0.0  0.0          0.0    153352.00   \n",
       "...        ...        ...        ...     ...  ...          ...          ...   \n",
       "377    point 7 2022-01-10   66697.84     0.0  0.0          0.0     66697.84   \n",
       "976    point 8 2022-03-01   25514.39     0.0  0.0          0.0     25514.39   \n",
       "292    point 1 2022-01-02   51467.00     0.0  0.0          0.0     51467.00   \n",
       "949    point 1 2022-02-28   55116.00     0.0  0.0          0.0     55116.00   \n",
       "866    point 2 2022-02-21  714439.52     0.0  0.0          0.0    714439.52   \n",
       "\n",
       "      ReceiptCount  month  day  weekday  \n",
       "835            2.0      2   17        3  \n",
       "40             8.0     12    8        2  \n",
       "19            73.0     12    7        1  \n",
       "668          133.0      2    4        4  \n",
       "1025          26.0      3    4        4  \n",
       "...            ...    ...  ...      ...  \n",
       "377           48.0      1   10        0  \n",
       "976           12.0      3    1        1  \n",
       "292           32.0      1    2        6  \n",
       "949           32.0      2   28        0  \n",
       "866           35.0      2   21        0  \n",
       "\n",
       "[1627 rows x 11 columns]"
      ]
     },
     "execution_count": 26,
     "metadata": {},
     "output_type": "execute_result"
    }
   ],
   "source": [
    "df['month'] = pd.DatetimeIndex(df.ShiftDate).month\n",
    "df['day'] = pd.DatetimeIndex(df.ShiftDate).day\n",
    "df['weekday'] = pd.DatetimeIndex(df.ShiftDate).weekday\n",
    "df"
   ]
  },
  {
   "cell_type": "code",
   "execution_count": 27,
   "id": "74594e1b",
   "metadata": {},
   "outputs": [
    {
     "data": {
      "image/png": "[encoded data removed]",
      "text/plain": [
       "<Figure size 864x432 with 1 Axes>"
      ]
     },
     "metadata": {
      "needs_background": "light"
     },
     "output_type": "display_data"
    }
   ],
   "source": [
    "df['weekday'].plot(kind='box', figsize = (12,6), vert = False);\n",
    "plt.title('Distribution of visitations among weekdays', alpha=0.8);"
   ]
  },
  {
   "cell_type": "markdown",
   "id": "10d94139",
   "metadata": {},
   "source": [
    "<p><img alt=\"Insight logo\" src=\"https://drive.google.com/uc?export=view&id=15uX4fnuDMuki2xAnjK8wv-ifJhAkBtJ2\" align=\"left\" hspace=\"10px\" vspace=\"0px\"></p>\n",
    "<ul style=\"list-style-type:none;\">\n",
    "  <li style=\"font-weight: bold;font-family:'Times New Roman';font-size:30px;font-style: italic;color:  teal\">Insights:</li>\n",
    "</ul>\n",
    "\n",
    "<div class=\"alert alert-info\" role=\"alert\">\n",
    "<ul style=\"list-style-type:none;font-family:Yu Mincho Demibold;font-size:20px;color:  black\">\n",
    "<li>7. From the above box plot, we can see that values are dense on days <span style=\"font-weight: bold; color:black;\">1 (monday)</span> to <span style=\"font-weight: bold; color:black;\">4 (thursday)</span>, meaning that there are more visitations on these days.</li>\n",
    "<br>\n",
    "</ul>\n",
    "</div>"
   ]
  },
  {
   "cell_type": "code",
   "execution_count": 28,
   "id": "0622591b",
   "metadata": {
    "scrolled": true
   },
   "outputs": [
    {
     "data": {
      "image/png": "[encoded data removed]",
      "text/plain": [
       "<Figure size 648x360 with 1 Axes>"
      ]
     },
     "metadata": {
      "needs_background": "light"
     },
     "output_type": "display_data"
    }
   ],
   "source": [
    "sns.histplot(x=df['ReceiptCount'], bins=20, kde=True,palette='spring');\n",
    "plt.xlabel('Receipt generated per day');\n",
    "plt.title('Disbursed receipts per day');"
   ]
  },
  {
   "cell_type": "code",
   "execution_count": 29,
   "id": "b71c5a6a",
   "metadata": {},
   "outputs": [],
   "source": [
    "d_amount = df[(df['month']== 1) & (df['TotalAmount'])]\n",
    "d_amount=d_amount[['Location','TotalAmount']].sum()\n",
    "\n",
    "de_amount = df[(df['month']== 12) & (df['TotalAmount'])]\n",
    "de_amount = de_amount[['Location','TotalAmount']].sum()"
   ]
  },
  {
   "cell_type": "code",
   "execution_count": 32,
   "id": "f02dd8cd",
   "metadata": {},
   "outputs": [],
   "source": [
    "receipt = df['ReceiptCount'].sum()\n",
    "re =receipt/days\n",
    "\n",
    "# 471.3888888888889\n",
    "# 84850.0"
   ]
  },
  {
   "cell_type": "code",
   "execution_count": 33,
   "id": "3798b7f4",
   "metadata": {},
   "outputs": [
    {
     "data": {
      "text/plain": [
       "4042.7865796110787"
      ]
     },
     "execution_count": 33,
     "metadata": {},
     "output_type": "execute_result"
    }
   ],
   "source": [
    "days = 180\n",
    "t_d = t_sum/days\n",
    "t_d/re\n",
    "# 1905724.6737777777"
   ]
  },
  {
   "cell_type": "code",
   "execution_count": null,
   "id": "2069fee4",
   "metadata": {},
   "outputs": [],
   "source": [
    "jandecperc = (jandec/t_sum)*100\n",
    "jandec = d_amount+de_amount\n",
    "jandec = jandec['TotalAmount']\n",
    "jandec,jandecperc\n",
    "\n",
    "# (103887926.82000001, 30.285337485602646"
   ]
  },
  {
   "cell_type": "markdown",
   "id": "a57d07ca",
   "metadata": {},
   "source": [
    "<p><img alt=\"Insight logo\" src=\"https://drive.google.com/uc?export=view&id=15uX4fnuDMuki2xAnjK8wv-ifJhAkBtJ2\" align=\"left\" hspace=\"10px\" vspace=\"0px\"></p>\n",
    "<ul style=\"list-style-type:none;\">\n",
    "  <li style=\"font-weight: bold;font-family:'Times New Roman';font-size:30px;font-style: italic;color:  teal\">Insights:</li>\n",
    "</ul>\n",
    "\n",
    "<div class=\"alert alert-info\" role=\"alert\">\n",
    "<ul style=\"list-style-type:none;font-family:Yu Mincho Demibold;font-size:20px;color:  black\">\n",
    "<li>8. <span style=\"font-weight: bold; color:black;\">471</span> reciepts are printed on the average daily.</li>\n",
    "<br>\n",
    "    <li>9. On the average, <span style=\"font-weight: bold; color:black;\">1,905,724.67 (one million, nine hundred and five thousand, seven hundred and twenty four naira, 67 kobo)</span> was realised daily, and for each printed receipt comes <span style=\"font-weight: bold; color:black;\">4,042.78(four thousand, fourty two naira, 78 kobo)</span>.</li>\n",
    "<br>\n",
    "    <li>10. <span style=\"font-weight: bold; color:black;\">103,887,926.82 (one hundred and three million, eight hundred and eighty seven thousand, nine hundred and twenty six naira, eighty two kobo</span> in revenue, was generated between december 2021 and january 2022, with a percentage of <span style=\"font-weight: bold; color:black;\">30.3</span>. </li>\n",
    "<br>\n",
    "</ul>\n",
    "</div>"
   ]
  },
  {
   "cell_type": "code",
   "execution_count": 36,
   "id": "302befac",
   "metadata": {},
   "outputs": [
    {
     "data": {
      "image/png": "[encoded data removed]",
      "text/plain": [
       "<Figure size 864x432 with 1 Axes>"
      ]
     },
     "metadata": {
      "needs_background": "light"
     },
     "output_type": "display_data"
    }
   ],
   "source": [
    "plt.figure(figsize=(12,6));\n",
    "ax= sns.barplot(x=df['month'], y=df['TotalAmount'],);\n",
    "plt.title('Revenue Generated by months');"
   ]
  },
  {
   "cell_type": "markdown",
   "id": "c12019bf",
   "metadata": {},
   "source": [
    "<p><img alt=\"Insight logo\" src=\"https://drive.google.com/uc?export=view&id=15uX4fnuDMuki2xAnjK8wv-ifJhAkBtJ2\" align=\"left\" hspace=\"10px\" vspace=\"0px\"></p>\n",
    "<ul style=\"list-style-type:none;\">\n",
    "  <li style=\"font-weight: bold;font-family:'Times New Roman';font-size:30px;font-style: italic;color:  teal\">Insights:</li>\n",
    "</ul>\n",
    "\n",
    "<div class=\"alert alert-info\" role=\"alert\">\n",
    "<ul style=\"list-style-type:none;font-family:Yu Mincho Demibold;font-size:20px;color:  black\">\n",
    "<li>11. From the above bar plot, more revenue was generated in the month of <span style=\"font-weight: bold; color:black;\">May</span>, and less was generated in the month of <span style=\"font-weight: bold; color:black;\">August</span>.</li>\n",
    "<br>\n",
    "</ul>\n",
    "</div>"
   ]
  },
  {
   "cell_type": "markdown",
   "id": "1959ec6d",
   "metadata": {},
   "source": [
    "<h1 style=\" font-size:35px; text-decoration:underline;\"> Conclusion </h1>"
   ]
  },
  {
   "cell_type": "markdown",
   "id": "1ad6badf",
   "metadata": {},
   "source": [
    "<p><img alt=\"Insight logo\" src=\"https://drive.google.com/uc?export=view&id=14dpaeXX-ajsM8quwe3dCCdQdrdvf29iI\" align=\"left\" hspace=\"20px\" vspace=\"20px\" width=\"45\" height=\"60\" ></p>\n",
    "<ul style=\"list-style-type:none;\">\n",
    "  <li style=\"font-weight: bold;font-family:'Times New Roman';font-size:30px;font-style: italic;color:  teal\">All Insights:</li>\n",
    "</ul>\n",
    "\n",
    "<div class=\"alert alert-info\" role=\"alert\">\n",
    "<ul style=\"list-style-type:none;font-family:Yu Mincho Demibold;font-size:20px;color:  black\">\n",
    "<li>1. The total amount realised within this period was <span style=\"font-weight: bold; color:black;\">343,030,441.28(Three hundred and 43 million, three hundred and four thousand, fourty one naira, twenty eight kobo.)</span>\n",
    "<br>\n",
    "  <li>2. <span style=\"font-weight: bold; color:black;\">Point 1</span> was the most visited within this period with <span style=\"font-weight: bold; color:black;\">600</span> visitations.</li>\n",
    "<br>\n",
    "    <li>3. <span style=\"font-weight: bold; color:black;\">HEART 2 HEART POINT</span> was the least visited within this period with a little below <span style=\"font-weight: bold; color:black;\">100</span> visitations.</li>\n",
    "<br>  \n",
    "    <li>4. <span style=\"font-weight: bold; color:black;\"> Point 1</span> had <span style=\"font-weight: bold; color:black;\">44.88%</span> of all the revenue that was generated within these period, with over <span style=\"font-weight: bold; color:black;\">100,000,000</span>.</li> million naira.\n",
    "<br><br>\n",
    "    <li>5. The top three points that generate revenue, can be seen to be <span style=\"font-weight: bold; color:black;\"> point 1</span>,<span style=\"font-weight: bold; color:black;\"> point 2</span> and <span style=\"font-weight: bold; color:black;\"> point 10</span>.</li>\n",
    "<br>\n",
    "    <li>6. On Average, <span style=\"font-weight: bold; color:black;\">point 2</span> generated more money, while <span style=\"font-weight: bold; color:black;\">point 6</span> is in the last position among the top 10.</li>\n",
    "<br>\n",
    "    <li>7. From the above box plot, we can see that values are dense on days <span style=\"font-weight: bold; color:black;\">1 (monday)</span> to <span style=\"font-weight: bold; color:black;\">4 (thursday)</span>, meaning that there are more visitations on these days.</li>\n",
    "<br>\n",
    "   <li>8. <span style=\"font-weight: bold; color:black;\">471</span> reciepts are printed on the average daily.</li>\n",
    "<br>\n",
    "    <li>9. On the average, <span style=\"font-weight: bold; color:black;\">1,905,724.67 (one million, nine hundred and five thousand, seven hundred and twenty four naira, 67 kobo)</span> was realised daily, and for each printed receipt comes <span style=\"font-weight: bold; color:black;\">4,042.78(four thousand, fourty two naira, 78 kobo)</span>.</li>\n",
    "<br>\n",
    "    <li>10. <span style=\"font-weight: bold; color:black;\">103,887,926.82 (one hundred and three million, eight hundred and eighty seven thousand, nine hundred and twenty six naira, eighty two kobo</span> in revenue, was generated between december 2021 and january 2022, with a percentage of <span style=\"font-weight: bold; color:black;\">30.3</span>. </li>\n",
    "<br> \n",
    "    <li>11. From the above bar plot, more revenue was generated in the month of <span style=\"font-weight: bold; color:black;\">May</span>, and less was generated in the month of <span style=\"font-weight: bold; color:black;\">August</span>.</li>\n",
    "<br>\n",
    "</ul>\n",
    "</div>"
   ]
  },
  {
   "cell_type": "markdown",
   "id": "221825a9",
   "metadata": {},
   "source": [
    "<h1 style=\" font-size:30px;\"> References </h1>"
   ]
  },
  {
   "cell_type": "markdown",
   "id": "7421e429",
   "metadata": {},
   "source": [
    "- `Stackoverflow`: https://stackoverflow.com/questions/68870547/date-and-time-conversion-in-python-pandas\n",
    "- `opendatasets` Python library: https://github.com/JovianML/opendatasets\n",
    "- `Pandas` user guide: https://pandas.pydata.org/docs/user_guide/index.html\n",
    "- `Matplotlib` user guide: https://matplotlib.org/3.3.1/users/index.html\n",
    "- `Seaborn` user guide & tutorial: https://seaborn.pydata.org/tutorial.html"
   ]
  }
 ],
 "metadata": {
  "kernelspec": {
   "display_name": "Python 3 (ipykernel)",
   "language": "python",
   "name": "python3"
  },
  "language_info": {
   "codemirror_mode": {
    "name": "ipython",
    "version": 3
   },
   "file_extension": ".py",
   "mimetype": "text/x-python",
   "name": "python",
   "nbconvert_exporter": "python",
   "pygments_lexer": "ipython3",
   "version": "3.9.12"
  }
 },
 "nbformat": 4,
 "nbformat_minor": 5
}
