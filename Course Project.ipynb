{
 "cells": [
  {
   "cell_type": "markdown",
   "id": "6f5ff4e8",
   "metadata": {},
   "source": [
    "**COURSE PROJECT**\n",
    "# Exploratory Data Analysis On House Sales Using Python!\n",
    "\n"
   ]
  },
  {
   "cell_type": "markdown",
   "id": "498e87bb",
   "metadata": {},
   "source": [
    "# House Sales!\n",
    "\n",
    "In this project, we'll be analyzing house sales and factors affecting house sales, and will be communicating ideas graphically.\n",
    "\n",
    "This Dataset was pulled from the `Open Dataset`folder gotten alongside course materials of the [Data Analysis with Python: Zero to Pandas](zerotopandas.com) course, the dataset has 1,400+ rows and upto 8 columns.\n",
    "\n",
    "This is a data on house sales, contains `house ID's, House style,Neighbourhood, Year built, Sale price etc`, and i'll running an analysis on it to look for relationships among different columns and to draw inferences on future sales. In this project, i'll be making use of some powerful python libraries like `Pandas, Numpy, Seaborn and Matplotlib` and also will be applying all the principles learnt from the [Data Analysis with Python: Zero to Pandas](zerotopandas.com) Course."
   ]
  },
  {
   "cell_type": "markdown",
   "id": "c6e80b7d",
   "metadata": {},
   "source": [
    "![purple-divider](https://user-images.githubusercontent.com/7065401/52071927-c1cd7100-2562-11e9-908a-dde91ba14e59.png)"
   ]
  },
  {
   "cell_type": "markdown",
   "id": "91d3568c",
   "metadata": {},
   "source": [
    "## Downloading the Dataset\n",
    "\n",
    "**TODO** - we'll be importing all the tools we'll be using for this analysis and will read our file using the pandas `read_csv` method since our data is in csv format."
   ]
  },
  {
   "cell_type": "code",
   "execution_count": 2,
   "id": "2e3cb500",
   "metadata": {},
   "outputs": [],
   "source": [
    "import numpy as np\n",
    "import pandas as pd"
   ]
  },
  {
   "cell_type": "markdown",
   "id": "403fdfd5",
   "metadata": {},
   "source": [
    "Let's begin by downloading the data, and listing the files within the dataset."
   ]
  },
  {
   "cell_type": "code",
   "execution_count": 3,
   "id": "319e6546",
   "metadata": {},
   "outputs": [],
   "source": [
    "test_df = pd.read_csv('test.csv', usecols = ['Id','HouseStyle','OverallQual','OverallCond','YearBuilt','RoofStyle','GarageCars','MoSold','YrSold','SaleCondition'],na_values=['', '?', '-'],skip_blank_lines= True)"
   ]
  },
  {
   "cell_type": "markdown",
   "id": "14bcec38",
   "metadata": {},
   "source": [
    "The dataset has been downloaded and extracted."
   ]
  },
  {
   "cell_type": "code",
   "execution_count": 4,
   "id": "63279fb3",
   "metadata": {},
   "outputs": [
    {
     "data": {
      "text/html": [
       "<div>\n",
       "<style scoped>\n",
       "    .dataframe tbody tr th:only-of-type {\n",
       "        vertical-align: middle;\n",
       "    }\n",
       "\n",
       "    .dataframe tbody tr th {\n",
       "        vertical-align: top;\n",
       "    }\n",
       "\n",
       "    .dataframe thead th {\n",
       "        text-align: right;\n",
       "    }\n",
       "</style>\n",
       "<table border=\"1\" class=\"dataframe\">\n",
       "  <thead>\n",
       "    <tr style=\"text-align: right;\">\n",
       "      <th></th>\n",
       "      <th>Id</th>\n",
       "      <th>HouseStyle</th>\n",
       "      <th>OverallQual</th>\n",
       "      <th>OverallCond</th>\n",
       "      <th>YearBuilt</th>\n",
       "      <th>RoofStyle</th>\n",
       "      <th>GarageCars</th>\n",
       "      <th>MoSold</th>\n",
       "      <th>YrSold</th>\n",
       "      <th>SaleCondition</th>\n",
       "    </tr>\n",
       "  </thead>\n",
       "  <tbody>\n",
       "    <tr>\n",
       "      <th>0</th>\n",
       "      <td>1461</td>\n",
       "      <td>1Story</td>\n",
       "      <td>5</td>\n",
       "      <td>6</td>\n",
       "      <td>1961</td>\n",
       "      <td>Gable</td>\n",
       "      <td>1.0</td>\n",
       "      <td>6</td>\n",
       "      <td>2010</td>\n",
       "      <td>Normal</td>\n",
       "    </tr>\n",
       "    <tr>\n",
       "      <th>1</th>\n",
       "      <td>1462</td>\n",
       "      <td>1Story</td>\n",
       "      <td>6</td>\n",
       "      <td>6</td>\n",
       "      <td>1958</td>\n",
       "      <td>Hip</td>\n",
       "      <td>1.0</td>\n",
       "      <td>6</td>\n",
       "      <td>2010</td>\n",
       "      <td>Normal</td>\n",
       "    </tr>\n",
       "    <tr>\n",
       "      <th>2</th>\n",
       "      <td>1463</td>\n",
       "      <td>2Story</td>\n",
       "      <td>5</td>\n",
       "      <td>5</td>\n",
       "      <td>1997</td>\n",
       "      <td>Gable</td>\n",
       "      <td>2.0</td>\n",
       "      <td>3</td>\n",
       "      <td>2010</td>\n",
       "      <td>Normal</td>\n",
       "    </tr>\n",
       "    <tr>\n",
       "      <th>3</th>\n",
       "      <td>1464</td>\n",
       "      <td>2Story</td>\n",
       "      <td>6</td>\n",
       "      <td>6</td>\n",
       "      <td>1998</td>\n",
       "      <td>Gable</td>\n",
       "      <td>2.0</td>\n",
       "      <td>6</td>\n",
       "      <td>2010</td>\n",
       "      <td>Normal</td>\n",
       "    </tr>\n",
       "    <tr>\n",
       "      <th>4</th>\n",
       "      <td>1465</td>\n",
       "      <td>1Story</td>\n",
       "      <td>8</td>\n",
       "      <td>5</td>\n",
       "      <td>1992</td>\n",
       "      <td>Gable</td>\n",
       "      <td>2.0</td>\n",
       "      <td>1</td>\n",
       "      <td>2010</td>\n",
       "      <td>Normal</td>\n",
       "    </tr>\n",
       "  </tbody>\n",
       "</table>\n",
       "</div>"
      ],
      "text/plain": [
       "     Id HouseStyle  OverallQual  OverallCond  YearBuilt RoofStyle  GarageCars  \\\n",
       "0  1461     1Story            5            6       1961     Gable         1.0   \n",
       "1  1462     1Story            6            6       1958       Hip         1.0   \n",
       "2  1463     2Story            5            5       1997     Gable         2.0   \n",
       "3  1464     2Story            6            6       1998     Gable         2.0   \n",
       "4  1465     1Story            8            5       1992     Gable         2.0   \n",
       "\n",
       "   MoSold  YrSold SaleCondition  \n",
       "0       6    2010        Normal  \n",
       "1       6    2010        Normal  \n",
       "2       3    2010        Normal  \n",
       "3       6    2010        Normal  \n",
       "4       1    2010        Normal  "
      ]
     },
     "execution_count": 4,
     "metadata": {},
     "output_type": "execute_result"
    }
   ],
   "source": [
    "test_df.head()"
   ]
  },
  {
   "cell_type": "markdown",
   "id": "eac4c389",
   "metadata": {},
   "source": [
    "Let us save and upload our work to Jovian before continuing."
   ]
  },
  {
   "cell_type": "markdown",
   "id": "d02498c1",
   "metadata": {},
   "source": [
    "![purple-divider](https://user-images.githubusercontent.com/7065401/52071927-c1cd7100-2562-11e9-908a-dde91ba14e59.png)"
   ]
  },
  {
   "cell_type": "markdown",
   "id": "8e1826cb",
   "metadata": {},
   "source": [
    "## Data Preparation and Cleaning\n",
    "\n",
    "**TODO** - Let's set the `ID` column to be the index of this dataframe and use the python `info()` method to see if there is any missing value in the dataset, if there is, then we employ methods of cleaning to get the data ready for analysis.\n",
    "\n",
    "We will also merge this dataframe with another `sample` data frame so as to access the `SalePrice` of the houses, and these sales are in `US Dollars($)`.\n",
    "\n"
   ]
  },
  {
   "cell_type": "code",
   "execution_count": 5,
   "id": "4a7f40d9",
   "metadata": {},
   "outputs": [
    {
     "data": {
      "text/html": [
       "<div>\n",
       "<style scoped>\n",
       "    .dataframe tbody tr th:only-of-type {\n",
       "        vertical-align: middle;\n",
       "    }\n",
       "\n",
       "    .dataframe tbody tr th {\n",
       "        vertical-align: top;\n",
       "    }\n",
       "\n",
       "    .dataframe thead th {\n",
       "        text-align: right;\n",
       "    }\n",
       "</style>\n",
       "<table border=\"1\" class=\"dataframe\">\n",
       "  <thead>\n",
       "    <tr style=\"text-align: right;\">\n",
       "      <th></th>\n",
       "      <th>Id</th>\n",
       "      <th>SalePrice</th>\n",
       "    </tr>\n",
       "  </thead>\n",
       "  <tbody>\n",
       "    <tr>\n",
       "      <th>0</th>\n",
       "      <td>1461</td>\n",
       "      <td>169277.052498</td>\n",
       "    </tr>\n",
       "    <tr>\n",
       "      <th>1</th>\n",
       "      <td>1462</td>\n",
       "      <td>187758.393989</td>\n",
       "    </tr>\n",
       "    <tr>\n",
       "      <th>2</th>\n",
       "      <td>1463</td>\n",
       "      <td>183583.683570</td>\n",
       "    </tr>\n",
       "    <tr>\n",
       "      <th>3</th>\n",
       "      <td>1464</td>\n",
       "      <td>179317.477511</td>\n",
       "    </tr>\n",
       "    <tr>\n",
       "      <th>4</th>\n",
       "      <td>1465</td>\n",
       "      <td>150730.079977</td>\n",
       "    </tr>\n",
       "  </tbody>\n",
       "</table>\n",
       "</div>"
      ],
      "text/plain": [
       "     Id      SalePrice\n",
       "0  1461  169277.052498\n",
       "1  1462  187758.393989\n",
       "2  1463  183583.683570\n",
       "3  1464  179317.477511\n",
       "4  1465  150730.079977"
      ]
     },
     "execution_count": 5,
     "metadata": {},
     "output_type": "execute_result"
    }
   ],
   "source": [
    "sample_df = pd.read_csv('sample_submission.csv',na_values=['', '?', '-'],skip_blank_lines= True)\n",
    "sample_df.head(5)"
   ]
  },
  {
   "cell_type": "code",
   "execution_count": 6,
   "id": "67534226",
   "metadata": {},
   "outputs": [],
   "source": [
    "df = test_df.merge(sample_df, how = 'inner', on='Id')"
   ]
  },
  {
   "cell_type": "code",
   "execution_count": 7,
   "id": "6547a60c",
   "metadata": {},
   "outputs": [
    {
     "data": {
      "text/html": [
       "<div>\n",
       "<style scoped>\n",
       "    .dataframe tbody tr th:only-of-type {\n",
       "        vertical-align: middle;\n",
       "    }\n",
       "\n",
       "    .dataframe tbody tr th {\n",
       "        vertical-align: top;\n",
       "    }\n",
       "\n",
       "    .dataframe thead th {\n",
       "        text-align: right;\n",
       "    }\n",
       "</style>\n",
       "<table border=\"1\" class=\"dataframe\">\n",
       "  <thead>\n",
       "    <tr style=\"text-align: right;\">\n",
       "      <th></th>\n",
       "      <th>Id</th>\n",
       "      <th>HouseStyle</th>\n",
       "      <th>OverallQual</th>\n",
       "      <th>OverallCond</th>\n",
       "      <th>YearBuilt</th>\n",
       "      <th>RoofStyle</th>\n",
       "      <th>GarageCars</th>\n",
       "      <th>MoSold</th>\n",
       "      <th>YrSold</th>\n",
       "      <th>SaleCondition</th>\n",
       "      <th>SalePrice</th>\n",
       "    </tr>\n",
       "  </thead>\n",
       "  <tbody>\n",
       "    <tr>\n",
       "      <th>0</th>\n",
       "      <td>1461</td>\n",
       "      <td>1Story</td>\n",
       "      <td>5</td>\n",
       "      <td>6</td>\n",
       "      <td>1961</td>\n",
       "      <td>Gable</td>\n",
       "      <td>1.0</td>\n",
       "      <td>6</td>\n",
       "      <td>2010</td>\n",
       "      <td>Normal</td>\n",
       "      <td>169277.052498</td>\n",
       "    </tr>\n",
       "    <tr>\n",
       "      <th>1</th>\n",
       "      <td>1462</td>\n",
       "      <td>1Story</td>\n",
       "      <td>6</td>\n",
       "      <td>6</td>\n",
       "      <td>1958</td>\n",
       "      <td>Hip</td>\n",
       "      <td>1.0</td>\n",
       "      <td>6</td>\n",
       "      <td>2010</td>\n",
       "      <td>Normal</td>\n",
       "      <td>187758.393989</td>\n",
       "    </tr>\n",
       "    <tr>\n",
       "      <th>2</th>\n",
       "      <td>1463</td>\n",
       "      <td>2Story</td>\n",
       "      <td>5</td>\n",
       "      <td>5</td>\n",
       "      <td>1997</td>\n",
       "      <td>Gable</td>\n",
       "      <td>2.0</td>\n",
       "      <td>3</td>\n",
       "      <td>2010</td>\n",
       "      <td>Normal</td>\n",
       "      <td>183583.683570</td>\n",
       "    </tr>\n",
       "    <tr>\n",
       "      <th>3</th>\n",
       "      <td>1464</td>\n",
       "      <td>2Story</td>\n",
       "      <td>6</td>\n",
       "      <td>6</td>\n",
       "      <td>1998</td>\n",
       "      <td>Gable</td>\n",
       "      <td>2.0</td>\n",
       "      <td>6</td>\n",
       "      <td>2010</td>\n",
       "      <td>Normal</td>\n",
       "      <td>179317.477511</td>\n",
       "    </tr>\n",
       "    <tr>\n",
       "      <th>4</th>\n",
       "      <td>1465</td>\n",
       "      <td>1Story</td>\n",
       "      <td>8</td>\n",
       "      <td>5</td>\n",
       "      <td>1992</td>\n",
       "      <td>Gable</td>\n",
       "      <td>2.0</td>\n",
       "      <td>1</td>\n",
       "      <td>2010</td>\n",
       "      <td>Normal</td>\n",
       "      <td>150730.079977</td>\n",
       "    </tr>\n",
       "  </tbody>\n",
       "</table>\n",
       "</div>"
      ],
      "text/plain": [
       "     Id HouseStyle  OverallQual  OverallCond  YearBuilt RoofStyle  GarageCars  \\\n",
       "0  1461     1Story            5            6       1961     Gable         1.0   \n",
       "1  1462     1Story            6            6       1958       Hip         1.0   \n",
       "2  1463     2Story            5            5       1997     Gable         2.0   \n",
       "3  1464     2Story            6            6       1998     Gable         2.0   \n",
       "4  1465     1Story            8            5       1992     Gable         2.0   \n",
       "\n",
       "   MoSold  YrSold SaleCondition      SalePrice  \n",
       "0       6    2010        Normal  169277.052498  \n",
       "1       6    2010        Normal  187758.393989  \n",
       "2       3    2010        Normal  183583.683570  \n",
       "3       6    2010        Normal  179317.477511  \n",
       "4       1    2010        Normal  150730.079977  "
      ]
     },
     "execution_count": 7,
     "metadata": {},
     "output_type": "execute_result"
    }
   ],
   "source": [
    "df.head()"
   ]
  },
  {
   "cell_type": "code",
   "execution_count": 8,
   "id": "d8bb5b44",
   "metadata": {},
   "outputs": [],
   "source": [
    "df = df.fillna(df['GarageCars'].mean())"
   ]
  },
  {
   "cell_type": "code",
   "execution_count": 9,
   "id": "58441cce",
   "metadata": {},
   "outputs": [
    {
     "name": "stdout",
     "output_type": "stream",
     "text": [
      "<class 'pandas.core.frame.DataFrame'>\n",
      "Int64Index: 1459 entries, 0 to 1458\n",
      "Data columns (total 11 columns):\n",
      " #   Column         Non-Null Count  Dtype  \n",
      "---  ------         --------------  -----  \n",
      " 0   Id             1459 non-null   int64  \n",
      " 1   HouseStyle     1459 non-null   object \n",
      " 2   OverallQual    1459 non-null   int64  \n",
      " 3   OverallCond    1459 non-null   int64  \n",
      " 4   YearBuilt      1459 non-null   int64  \n",
      " 5   RoofStyle      1459 non-null   object \n",
      " 6   GarageCars     1459 non-null   float64\n",
      " 7   MoSold         1459 non-null   int64  \n",
      " 8   YrSold         1459 non-null   int64  \n",
      " 9   SaleCondition  1459 non-null   object \n",
      " 10  SalePrice      1459 non-null   float64\n",
      "dtypes: float64(2), int64(6), object(3)\n",
      "memory usage: 136.8+ KB\n"
     ]
    }
   ],
   "source": [
    "df.info()"
   ]
  },
  {
   "cell_type": "code",
   "execution_count": 10,
   "id": "ad99907f",
   "metadata": {},
   "outputs": [
    {
     "data": {
      "text/plain": [
       "array([1.        , 2.        , 3.        , 0.        , 4.        ,\n",
       "       5.        , 1.76611797])"
      ]
     },
     "execution_count": 10,
     "metadata": {},
     "output_type": "execute_result"
    }
   ],
   "source": [
    "df['GarageCars'].unique()"
   ]
  },
  {
   "cell_type": "code",
   "execution_count": 11,
   "id": "73696a29",
   "metadata": {},
   "outputs": [],
   "source": [
    "df = df.set_index('Id')"
   ]
  },
  {
   "cell_type": "code",
   "execution_count": 12,
   "id": "c0003ed7",
   "metadata": {},
   "outputs": [
    {
     "data": {
      "text/html": [
       "<div>\n",
       "<style scoped>\n",
       "    .dataframe tbody tr th:only-of-type {\n",
       "        vertical-align: middle;\n",
       "    }\n",
       "\n",
       "    .dataframe tbody tr th {\n",
       "        vertical-align: top;\n",
       "    }\n",
       "\n",
       "    .dataframe thead th {\n",
       "        text-align: right;\n",
       "    }\n",
       "</style>\n",
       "<table border=\"1\" class=\"dataframe\">\n",
       "  <thead>\n",
       "    <tr style=\"text-align: right;\">\n",
       "      <th></th>\n",
       "      <th>HouseStyle</th>\n",
       "      <th>OverallQual</th>\n",
       "      <th>OverallCond</th>\n",
       "      <th>YearBuilt</th>\n",
       "      <th>RoofStyle</th>\n",
       "      <th>GarageCars</th>\n",
       "      <th>MoSold</th>\n",
       "      <th>YrSold</th>\n",
       "      <th>SaleCondition</th>\n",
       "      <th>SalePrice</th>\n",
       "    </tr>\n",
       "    <tr>\n",
       "      <th>Id</th>\n",
       "      <th></th>\n",
       "      <th></th>\n",
       "      <th></th>\n",
       "      <th></th>\n",
       "      <th></th>\n",
       "      <th></th>\n",
       "      <th></th>\n",
       "      <th></th>\n",
       "      <th></th>\n",
       "      <th></th>\n",
       "    </tr>\n",
       "  </thead>\n",
       "  <tbody>\n",
       "    <tr>\n",
       "      <th>1461</th>\n",
       "      <td>1Story</td>\n",
       "      <td>5</td>\n",
       "      <td>6</td>\n",
       "      <td>1961</td>\n",
       "      <td>Gable</td>\n",
       "      <td>1.0</td>\n",
       "      <td>6</td>\n",
       "      <td>2010</td>\n",
       "      <td>Normal</td>\n",
       "      <td>169277.052498</td>\n",
       "    </tr>\n",
       "    <tr>\n",
       "      <th>1462</th>\n",
       "      <td>1Story</td>\n",
       "      <td>6</td>\n",
       "      <td>6</td>\n",
       "      <td>1958</td>\n",
       "      <td>Hip</td>\n",
       "      <td>1.0</td>\n",
       "      <td>6</td>\n",
       "      <td>2010</td>\n",
       "      <td>Normal</td>\n",
       "      <td>187758.393989</td>\n",
       "    </tr>\n",
       "    <tr>\n",
       "      <th>1463</th>\n",
       "      <td>2Story</td>\n",
       "      <td>5</td>\n",
       "      <td>5</td>\n",
       "      <td>1997</td>\n",
       "      <td>Gable</td>\n",
       "      <td>2.0</td>\n",
       "      <td>3</td>\n",
       "      <td>2010</td>\n",
       "      <td>Normal</td>\n",
       "      <td>183583.683570</td>\n",
       "    </tr>\n",
       "    <tr>\n",
       "      <th>1464</th>\n",
       "      <td>2Story</td>\n",
       "      <td>6</td>\n",
       "      <td>6</td>\n",
       "      <td>1998</td>\n",
       "      <td>Gable</td>\n",
       "      <td>2.0</td>\n",
       "      <td>6</td>\n",
       "      <td>2010</td>\n",
       "      <td>Normal</td>\n",
       "      <td>179317.477511</td>\n",
       "    </tr>\n",
       "    <tr>\n",
       "      <th>1465</th>\n",
       "      <td>1Story</td>\n",
       "      <td>8</td>\n",
       "      <td>5</td>\n",
       "      <td>1992</td>\n",
       "      <td>Gable</td>\n",
       "      <td>2.0</td>\n",
       "      <td>1</td>\n",
       "      <td>2010</td>\n",
       "      <td>Normal</td>\n",
       "      <td>150730.079977</td>\n",
       "    </tr>\n",
       "  </tbody>\n",
       "</table>\n",
       "</div>"
      ],
      "text/plain": [
       "     HouseStyle  OverallQual  OverallCond  YearBuilt RoofStyle  GarageCars  \\\n",
       "Id                                                                           \n",
       "1461     1Story            5            6       1961     Gable         1.0   \n",
       "1462     1Story            6            6       1958       Hip         1.0   \n",
       "1463     2Story            5            5       1997     Gable         2.0   \n",
       "1464     2Story            6            6       1998     Gable         2.0   \n",
       "1465     1Story            8            5       1992     Gable         2.0   \n",
       "\n",
       "      MoSold  YrSold SaleCondition      SalePrice  \n",
       "Id                                                 \n",
       "1461       6    2010        Normal  169277.052498  \n",
       "1462       6    2010        Normal  187758.393989  \n",
       "1463       3    2010        Normal  183583.683570  \n",
       "1464       6    2010        Normal  179317.477511  \n",
       "1465       1    2010        Normal  150730.079977  "
      ]
     },
     "execution_count": 12,
     "metadata": {},
     "output_type": "execute_result"
    }
   ],
   "source": [
    "df.head(5)"
   ]
  },
  {
   "cell_type": "markdown",
   "id": "ec61b2c9",
   "metadata": {},
   "source": []
  },
  {
   "cell_type": "markdown",
   "id": "4fb05553",
   "metadata": {},
   "source": [
    "![purple-divider](https://user-images.githubusercontent.com/7065401/52071927-c1cd7100-2562-11e9-908a-dde91ba14e59.png)"
   ]
  },
  {
   "cell_type": "markdown",
   "id": "28c25a76",
   "metadata": {},
   "source": [
    "## Exploratory Analysis and Visualization\n",
    "\n",
    "**TODO** - Here, we will be computing the mean, sum, range and other interesting statistics for numeric columns, explore distributions of numeric columns using histograms etc. We will also explore relationship between columns using scatter plots, bar charts etc.\n",
    "\n"
   ]
  },
  {
   "cell_type": "code",
   "execution_count": 13,
   "id": "686431b2",
   "metadata": {},
   "outputs": [
    {
     "data": {
      "text/html": [
       "<div>\n",
       "<style scoped>\n",
       "    .dataframe tbody tr th:only-of-type {\n",
       "        vertical-align: middle;\n",
       "    }\n",
       "\n",
       "    .dataframe tbody tr th {\n",
       "        vertical-align: top;\n",
       "    }\n",
       "\n",
       "    .dataframe thead th {\n",
       "        text-align: right;\n",
       "    }\n",
       "</style>\n",
       "<table border=\"1\" class=\"dataframe\">\n",
       "  <thead>\n",
       "    <tr style=\"text-align: right;\">\n",
       "      <th></th>\n",
       "      <th>OverallQual</th>\n",
       "      <th>OverallCond</th>\n",
       "      <th>YearBuilt</th>\n",
       "      <th>GarageCars</th>\n",
       "      <th>MoSold</th>\n",
       "      <th>YrSold</th>\n",
       "      <th>SalePrice</th>\n",
       "    </tr>\n",
       "  </thead>\n",
       "  <tbody>\n",
       "    <tr>\n",
       "      <th>count</th>\n",
       "      <td>1459.000000</td>\n",
       "      <td>1459.000000</td>\n",
       "      <td>1459.000000</td>\n",
       "      <td>1459.000000</td>\n",
       "      <td>1459.000000</td>\n",
       "      <td>1459.000000</td>\n",
       "      <td>1459.000000</td>\n",
       "    </tr>\n",
       "    <tr>\n",
       "      <th>mean</th>\n",
       "      <td>6.078821</td>\n",
       "      <td>5.553804</td>\n",
       "      <td>1971.357779</td>\n",
       "      <td>1.766118</td>\n",
       "      <td>6.104181</td>\n",
       "      <td>2007.769705</td>\n",
       "      <td>179183.918243</td>\n",
       "    </tr>\n",
       "    <tr>\n",
       "      <th>std</th>\n",
       "      <td>1.436812</td>\n",
       "      <td>1.113740</td>\n",
       "      <td>30.390071</td>\n",
       "      <td>0.775679</td>\n",
       "      <td>2.722432</td>\n",
       "      <td>1.301740</td>\n",
       "      <td>16518.303051</td>\n",
       "    </tr>\n",
       "    <tr>\n",
       "      <th>min</th>\n",
       "      <td>1.000000</td>\n",
       "      <td>1.000000</td>\n",
       "      <td>1879.000000</td>\n",
       "      <td>0.000000</td>\n",
       "      <td>1.000000</td>\n",
       "      <td>2006.000000</td>\n",
       "      <td>135751.318893</td>\n",
       "    </tr>\n",
       "    <tr>\n",
       "      <th>25%</th>\n",
       "      <td>5.000000</td>\n",
       "      <td>5.000000</td>\n",
       "      <td>1953.000000</td>\n",
       "      <td>1.000000</td>\n",
       "      <td>4.000000</td>\n",
       "      <td>2007.000000</td>\n",
       "      <td>168703.011202</td>\n",
       "    </tr>\n",
       "    <tr>\n",
       "      <th>50%</th>\n",
       "      <td>6.000000</td>\n",
       "      <td>5.000000</td>\n",
       "      <td>1973.000000</td>\n",
       "      <td>2.000000</td>\n",
       "      <td>6.000000</td>\n",
       "      <td>2008.000000</td>\n",
       "      <td>179208.665698</td>\n",
       "    </tr>\n",
       "    <tr>\n",
       "      <th>75%</th>\n",
       "      <td>7.000000</td>\n",
       "      <td>6.000000</td>\n",
       "      <td>2001.000000</td>\n",
       "      <td>2.000000</td>\n",
       "      <td>8.000000</td>\n",
       "      <td>2009.000000</td>\n",
       "      <td>186789.409363</td>\n",
       "    </tr>\n",
       "    <tr>\n",
       "      <th>max</th>\n",
       "      <td>10.000000</td>\n",
       "      <td>9.000000</td>\n",
       "      <td>2010.000000</td>\n",
       "      <td>5.000000</td>\n",
       "      <td>12.000000</td>\n",
       "      <td>2010.000000</td>\n",
       "      <td>281643.976117</td>\n",
       "    </tr>\n",
       "  </tbody>\n",
       "</table>\n",
       "</div>"
      ],
      "text/plain": [
       "       OverallQual  OverallCond    YearBuilt   GarageCars       MoSold  \\\n",
       "count  1459.000000  1459.000000  1459.000000  1459.000000  1459.000000   \n",
       "mean      6.078821     5.553804  1971.357779     1.766118     6.104181   \n",
       "std       1.436812     1.113740    30.390071     0.775679     2.722432   \n",
       "min       1.000000     1.000000  1879.000000     0.000000     1.000000   \n",
       "25%       5.000000     5.000000  1953.000000     1.000000     4.000000   \n",
       "50%       6.000000     5.000000  1973.000000     2.000000     6.000000   \n",
       "75%       7.000000     6.000000  2001.000000     2.000000     8.000000   \n",
       "max      10.000000     9.000000  2010.000000     5.000000    12.000000   \n",
       "\n",
       "            YrSold      SalePrice  \n",
       "count  1459.000000    1459.000000  \n",
       "mean   2007.769705  179183.918243  \n",
       "std       1.301740   16518.303051  \n",
       "min    2006.000000  135751.318893  \n",
       "25%    2007.000000  168703.011202  \n",
       "50%    2008.000000  179208.665698  \n",
       "75%    2009.000000  186789.409363  \n",
       "max    2010.000000  281643.976117  "
      ]
     },
     "execution_count": 13,
     "metadata": {},
     "output_type": "execute_result"
    }
   ],
   "source": [
    "df.describe()"
   ]
  },
  {
   "cell_type": "markdown",
   "id": "26e28175",
   "metadata": {},
   "source": [
    "Let's begin by importing`matplotlib.pyplot` and `seaborn`."
   ]
  },
  {
   "cell_type": "code",
   "execution_count": 14,
   "id": "322a4c1d",
   "metadata": {},
   "outputs": [],
   "source": [
    "import seaborn as sns\n",
    "import matplotlib\n",
    "import matplotlib.pyplot as plt\n",
    "%matplotlib inline\n",
    "\n",
    "sns.set_style('darkgrid')\n",
    "matplotlib.rcParams['font.size'] = 14\n",
    "matplotlib.rcParams['figure.figsize'] = (9, 5)\n",
    "matplotlib.rcParams['figure.facecolor'] = '#00000000'"
   ]
  },
  {
   "cell_type": "markdown",
   "id": "1ec5be49",
   "metadata": {},
   "source": [
    "**TODO** - **We will be using a scatter plot to check for correlations or relationships among columns `YearBuilt` and `SalePrice`.**"
   ]
  },
  {
   "cell_type": "code",
   "execution_count": 12,
   "id": "ed30bf7a",
   "metadata": {},
   "outputs": [
    {
     "data": {
      "image/png": "[encoded data removed]",
      "text/plain": [
       "<Figure size 864x576 with 1 Axes>"
      ]
     },
     "metadata": {
      "needs_background": "light"
     },
     "output_type": "display_data"
    }
   ],
   "source": [
    "plt.figure(figsize = (12,8))\n",
    "sns.scatterplot(x = df['YearBuilt'], y = df['SalePrice'], hue = df['HouseStyle']);\n",
    "plt.xlabel('Year Built');\n",
    "plt.ylabel('Sale Price($)');\n",
    "plt.title('Does the year in which house was built affect Sale Price?');\n"
   ]
  },
  {
   "cell_type": "markdown",
   "id": "877f7f1a",
   "metadata": {},
   "source": [
    "<p><img alt=\"Insight logo\" src=\"https://drive.google.com/uc?export=view&id=1pNPWpgMSrFyFEo7TLhqOZXnSTicDLHLe\" align=\"left\"  width=\"55\" height=\"65\" ></p>\n",
    "\n",
    "<ul style=\"list-style-type:none;\">\n",
    "  <li style=\"font-weight: bold;font-family:'Times New Roman';font-size:30px;font-style: italic;color:  red\">Insights:</li>\n",
    "</ul>\n",
    "\n",
    "<div class=\"alert alert-info\" role=\"alert\" style=\"font-family:Yu Mincho Demibold;font-size:20px;color:  black\">\n",
    "From the above plot, we can see:\n",
    "    \n",
    "\n",
    "* The year house was built does not affect price house was sold.\n",
    "\n",
    "* We used house style as `hue`, and we can see that from around `1880` to around `1945`, more of `1.5fin` and `2Story` house styles were sold.\n",
    "* we can also see that more of `1Story` style houses were sold and that around `2000`'s, `2Story` house styles began competing with `1Story` house styles.\n",
    "    </div>"
   ]
  },
  {
   "cell_type": "markdown",
   "id": "8f2621eb",
   "metadata": {},
   "source": [
    "![purple-divider](https://user-images.githubusercontent.com/7065401/52071927-c1cd7100-2562-11e9-908a-dde91ba14e59.png)"
   ]
  },
  {
   "cell_type": "markdown",
   "id": "b5569651",
   "metadata": {},
   "source": [
    "**TODO** - **We will be looking at the frequency of houses sold in each particular month of the year.**"
   ]
  },
  {
   "cell_type": "code",
   "execution_count": 5,
   "id": "e22e1dc8",
   "metadata": {},
   "outputs": [
    {
     "ename": "NameError",
     "evalue": "name 'df' is not defined",
     "output_type": "error",
     "traceback": [
      "\u001b[1;31m---------------------------------------------------------------------------\u001b[0m",
      "\u001b[1;31mNameError\u001b[0m                                 Traceback (most recent call last)",
      "Input \u001b[1;32mIn [5]\u001b[0m, in \u001b[0;36m<cell line: 1>\u001b[1;34m()\u001b[0m\n\u001b[1;32m----> 1\u001b[0m cf \u001b[38;5;241m=\u001b[39m \u001b[43mdf\u001b[49m[\u001b[38;5;124m'\u001b[39m\u001b[38;5;124mMoSold\u001b[39m\u001b[38;5;124m'\u001b[39m]\u001b[38;5;241m.\u001b[39mvalue_counts()\u001b[38;5;241m.\u001b[39mreset_index()\n\u001b[0;32m      2\u001b[0m cf\n",
      "\u001b[1;31mNameError\u001b[0m: name 'df' is not defined"
     ]
    }
   ],
   "source": [
    "cf = df['MoSold'].value_counts().reset_index()\n",
    "cf"
   ]
  },
  {
   "cell_type": "code",
   "execution_count": 44,
   "id": "2ed7bb37",
   "metadata": {},
   "outputs": [
    {
     "data": {
      "image/png": "[encoded data removed]",
      "text/plain": [
       "<Figure size 864x432 with 1 Axes>"
      ]
     },
     "metadata": {
      "needs_background": "light"
     },
     "output_type": "display_data"
    }
   ],
   "source": [
    "plt.figure(figsize=(12,6))\n",
    "plt.xticks(rotation=75)\n",
    "plt.title('What month were the most houses sold?')\n",
    "plt.xlabel('Month Sold')\n",
    "plt.ylabel('Frequency')\n",
    "cf.plot(kind = 'bar');\n",
    "# sns.barplot(x=cf.index, y = cf );"
   ]
  },
  {
   "cell_type": "markdown",
   "id": "bf63a3fd",
   "metadata": {},
   "source": [
    "<p><img alt=\"Insight logo\" src=\"https://drive.google.com/uc?export=view&id=15uX4fnuDMuki2xAnjK8wv-ifJhAkBtJ2\" align=\"left\" hspace=\"10px\" vspace=\"0px\"></p>\n",
    "<div class=\"alert alert-info\" role=\"alert\" style=\"font-family:Yu Mincho Demibold;font-size:20px;color:  black\">\n",
    "From this plot, it is not hard to see that more houses were sold on `june(6)` and less houses were sold on `december(12)`, maybe because people prioritized Festive periods over spending on houses.*\n",
    "    </div>"
   ]
  },
  {
   "cell_type": "markdown",
   "id": "f3cd176f",
   "metadata": {},
   "source": [
    "![purple-divider](https://user-images.githubusercontent.com/7065401/52071927-c1cd7100-2562-11e9-908a-dde91ba14e59.png)"
   ]
  },
  {
   "cell_type": "markdown",
   "id": "331ade89",
   "metadata": {},
   "source": [
    "**TODO** - **We will be using a Bar Chart to check the frequency of houses sold over the years.**"
   ]
  },
  {
   "cell_type": "code",
   "execution_count": 15,
   "id": "192bf249",
   "metadata": {},
   "outputs": [],
   "source": [
    "df['YrSold'] = df['YrSold'].astype('int32')"
   ]
  },
  {
   "cell_type": "code",
   "execution_count": 16,
   "id": "4d65ce6f",
   "metadata": {},
   "outputs": [
    {
     "data": {
      "text/html": [
       "<div>\n",
       "<style scoped>\n",
       "    .dataframe tbody tr th:only-of-type {\n",
       "        vertical-align: middle;\n",
       "    }\n",
       "\n",
       "    .dataframe tbody tr th {\n",
       "        vertical-align: top;\n",
       "    }\n",
       "\n",
       "    .dataframe thead th {\n",
       "        text-align: right;\n",
       "    }\n",
       "</style>\n",
       "<table border=\"1\" class=\"dataframe\">\n",
       "  <thead>\n",
       "    <tr style=\"text-align: right;\">\n",
       "      <th></th>\n",
       "      <th>HouseStyle</th>\n",
       "      <th>OverallQual</th>\n",
       "      <th>OverallCond</th>\n",
       "      <th>YearBuilt</th>\n",
       "      <th>RoofStyle</th>\n",
       "      <th>GarageCars</th>\n",
       "      <th>MoSold</th>\n",
       "      <th>YrSold</th>\n",
       "      <th>SaleCondition</th>\n",
       "      <th>SalePrice</th>\n",
       "    </tr>\n",
       "    <tr>\n",
       "      <th>Id</th>\n",
       "      <th></th>\n",
       "      <th></th>\n",
       "      <th></th>\n",
       "      <th></th>\n",
       "      <th></th>\n",
       "      <th></th>\n",
       "      <th></th>\n",
       "      <th></th>\n",
       "      <th></th>\n",
       "      <th></th>\n",
       "    </tr>\n",
       "  </thead>\n",
       "  <tbody>\n",
       "    <tr>\n",
       "      <th>1461</th>\n",
       "      <td>1Story</td>\n",
       "      <td>5</td>\n",
       "      <td>6</td>\n",
       "      <td>1961</td>\n",
       "      <td>Gable</td>\n",
       "      <td>1.0</td>\n",
       "      <td>6</td>\n",
       "      <td>2010</td>\n",
       "      <td>Normal</td>\n",
       "      <td>169277.052498</td>\n",
       "    </tr>\n",
       "    <tr>\n",
       "      <th>1462</th>\n",
       "      <td>1Story</td>\n",
       "      <td>6</td>\n",
       "      <td>6</td>\n",
       "      <td>1958</td>\n",
       "      <td>Hip</td>\n",
       "      <td>1.0</td>\n",
       "      <td>6</td>\n",
       "      <td>2010</td>\n",
       "      <td>Normal</td>\n",
       "      <td>187758.393989</td>\n",
       "    </tr>\n",
       "    <tr>\n",
       "      <th>1463</th>\n",
       "      <td>2Story</td>\n",
       "      <td>5</td>\n",
       "      <td>5</td>\n",
       "      <td>1997</td>\n",
       "      <td>Gable</td>\n",
       "      <td>2.0</td>\n",
       "      <td>3</td>\n",
       "      <td>2010</td>\n",
       "      <td>Normal</td>\n",
       "      <td>183583.683570</td>\n",
       "    </tr>\n",
       "    <tr>\n",
       "      <th>1464</th>\n",
       "      <td>2Story</td>\n",
       "      <td>6</td>\n",
       "      <td>6</td>\n",
       "      <td>1998</td>\n",
       "      <td>Gable</td>\n",
       "      <td>2.0</td>\n",
       "      <td>6</td>\n",
       "      <td>2010</td>\n",
       "      <td>Normal</td>\n",
       "      <td>179317.477511</td>\n",
       "    </tr>\n",
       "    <tr>\n",
       "      <th>1465</th>\n",
       "      <td>1Story</td>\n",
       "      <td>8</td>\n",
       "      <td>5</td>\n",
       "      <td>1992</td>\n",
       "      <td>Gable</td>\n",
       "      <td>2.0</td>\n",
       "      <td>1</td>\n",
       "      <td>2010</td>\n",
       "      <td>Normal</td>\n",
       "      <td>150730.079977</td>\n",
       "    </tr>\n",
       "    <tr>\n",
       "      <th>...</th>\n",
       "      <td>...</td>\n",
       "      <td>...</td>\n",
       "      <td>...</td>\n",
       "      <td>...</td>\n",
       "      <td>...</td>\n",
       "      <td>...</td>\n",
       "      <td>...</td>\n",
       "      <td>...</td>\n",
       "      <td>...</td>\n",
       "      <td>...</td>\n",
       "    </tr>\n",
       "    <tr>\n",
       "      <th>2915</th>\n",
       "      <td>2Story</td>\n",
       "      <td>4</td>\n",
       "      <td>7</td>\n",
       "      <td>1970</td>\n",
       "      <td>Gable</td>\n",
       "      <td>0.0</td>\n",
       "      <td>6</td>\n",
       "      <td>2006</td>\n",
       "      <td>Normal</td>\n",
       "      <td>167081.220949</td>\n",
       "    </tr>\n",
       "    <tr>\n",
       "      <th>2916</th>\n",
       "      <td>2Story</td>\n",
       "      <td>4</td>\n",
       "      <td>5</td>\n",
       "      <td>1970</td>\n",
       "      <td>Gable</td>\n",
       "      <td>1.0</td>\n",
       "      <td>4</td>\n",
       "      <td>2006</td>\n",
       "      <td>Abnorml</td>\n",
       "      <td>164788.778231</td>\n",
       "    </tr>\n",
       "    <tr>\n",
       "      <th>2917</th>\n",
       "      <td>1Story</td>\n",
       "      <td>5</td>\n",
       "      <td>7</td>\n",
       "      <td>1960</td>\n",
       "      <td>Gable</td>\n",
       "      <td>2.0</td>\n",
       "      <td>9</td>\n",
       "      <td>2006</td>\n",
       "      <td>Abnorml</td>\n",
       "      <td>219222.423400</td>\n",
       "    </tr>\n",
       "    <tr>\n",
       "      <th>2918</th>\n",
       "      <td>SFoyer</td>\n",
       "      <td>5</td>\n",
       "      <td>5</td>\n",
       "      <td>1992</td>\n",
       "      <td>Gable</td>\n",
       "      <td>0.0</td>\n",
       "      <td>7</td>\n",
       "      <td>2006</td>\n",
       "      <td>Normal</td>\n",
       "      <td>184924.279659</td>\n",
       "    </tr>\n",
       "    <tr>\n",
       "      <th>2919</th>\n",
       "      <td>2Story</td>\n",
       "      <td>7</td>\n",
       "      <td>5</td>\n",
       "      <td>1993</td>\n",
       "      <td>Gable</td>\n",
       "      <td>3.0</td>\n",
       "      <td>11</td>\n",
       "      <td>2006</td>\n",
       "      <td>Normal</td>\n",
       "      <td>187741.866657</td>\n",
       "    </tr>\n",
       "  </tbody>\n",
       "</table>\n",
       "<p>1459 rows × 10 columns</p>\n",
       "</div>"
      ],
      "text/plain": [
       "     HouseStyle  OverallQual  OverallCond  YearBuilt RoofStyle  GarageCars  \\\n",
       "Id                                                                           \n",
       "1461     1Story            5            6       1961     Gable         1.0   \n",
       "1462     1Story            6            6       1958       Hip         1.0   \n",
       "1463     2Story            5            5       1997     Gable         2.0   \n",
       "1464     2Story            6            6       1998     Gable         2.0   \n",
       "1465     1Story            8            5       1992     Gable         2.0   \n",
       "...         ...          ...          ...        ...       ...         ...   \n",
       "2915     2Story            4            7       1970     Gable         0.0   \n",
       "2916     2Story            4            5       1970     Gable         1.0   \n",
       "2917     1Story            5            7       1960     Gable         2.0   \n",
       "2918     SFoyer            5            5       1992     Gable         0.0   \n",
       "2919     2Story            7            5       1993     Gable         3.0   \n",
       "\n",
       "      MoSold  YrSold SaleCondition      SalePrice  \n",
       "Id                                                 \n",
       "1461       6    2010        Normal  169277.052498  \n",
       "1462       6    2010        Normal  187758.393989  \n",
       "1463       3    2010        Normal  183583.683570  \n",
       "1464       6    2010        Normal  179317.477511  \n",
       "1465       1    2010        Normal  150730.079977  \n",
       "...      ...     ...           ...            ...  \n",
       "2915       6    2006        Normal  167081.220949  \n",
       "2916       4    2006       Abnorml  164788.778231  \n",
       "2917       9    2006       Abnorml  219222.423400  \n",
       "2918       7    2006        Normal  184924.279659  \n",
       "2919      11    2006        Normal  187741.866657  \n",
       "\n",
       "[1459 rows x 10 columns]"
      ]
     },
     "execution_count": 16,
     "metadata": {},
     "output_type": "execute_result"
    }
   ],
   "source": [
    "df"
   ]
  },
  {
   "cell_type": "code",
   "execution_count": 17,
   "id": "daea1124",
   "metadata": {},
   "outputs": [
    {
     "data": {
      "text/plain": [
       "dtype('int32')"
      ]
     },
     "execution_count": 17,
     "metadata": {},
     "output_type": "execute_result"
    }
   ],
   "source": [
    "df['YrSold'].dtype"
   ]
  },
  {
   "cell_type": "code",
   "execution_count": 16,
   "id": "52b5413b",
   "metadata": {},
   "outputs": [
    {
     "data": {
      "text/plain": [
       "2007    363\n",
       "2008    318\n",
       "2009    309\n",
       "2006    305\n",
       "2010    164\n",
       "Name: YrSold, dtype: int64"
      ]
     },
     "execution_count": 16,
     "metadata": {},
     "output_type": "execute_result"
    }
   ],
   "source": [
    "df['YrSold'].value_counts()"
   ]
  },
  {
   "cell_type": "code",
   "execution_count": 17,
   "id": "d73eb022",
   "metadata": {},
   "outputs": [
    {
     "data": {
      "image/png": "[encoded data removed]",
      "text/plain": [
       "<Figure size 648x360 with 1 Axes>"
      ]
     },
     "metadata": {
      "needs_background": "light"
     },
     "output_type": "display_data"
    }
   ],
   "source": [
    "plt.bar(df['YrSold'], df.index);\n",
    "plt.xlabel('Year Sold');\n",
    "plt.ylabel('Frequency');\n",
    "plt.title('Distribution of houses sold');"
   ]
  },
  {
   "cell_type": "markdown",
   "id": "bb3aa203",
   "metadata": {},
   "source": [
    "> *This Bar chart is a plot of year house was sold and the frequency.*\n",
    "> *We can see that above `350` houses were sold within the months of `2006`(dense around here) and just a little above `150` houses were sold in the year `2010`.*\n",
    "> *We can also see that the number of houses sold decreased over the years.*"
   ]
  },
  {
   "cell_type": "markdown",
   "id": "aa6d9817",
   "metadata": {},
   "source": [
    "![purple-divider](https://user-images.githubusercontent.com/7065401/52071927-c1cd7100-2562-11e9-908a-dde91ba14e59.png)"
   ]
  },
  {
   "cell_type": "markdown",
   "id": "6f7b27ec",
   "metadata": {},
   "source": [
    "**TODO** - We will be using a box plot to look at what the house `OverallQual` and `OverallCond` looks like and make assertions on the dataset."
   ]
  },
  {
   "cell_type": "code",
   "execution_count": 43,
   "id": "89981822",
   "metadata": {},
   "outputs": [
    {
     "data": {
      "image/png": "[encoded data removed]",
      "text/plain": [
       "<Figure size 864x576 with 1 Axes>"
      ]
     },
     "metadata": {
      "needs_background": "light"
     },
     "output_type": "display_data"
    }
   ],
   "source": [
    "df['OverallQual'].plot(kind='box', figsize = (12,8), vert = False);\n",
    "plt.title('Distribution of Overall Quality of houses sold');"
   ]
  },
  {
   "cell_type": "markdown",
   "id": "7cfbc47a",
   "metadata": {},
   "source": [
    "> *From this box and whiskers, we can see where the values lies majorly, we can see that the values ranges from `2-10`, and the median lies at `6`, we can also see the `1st quartile` and the `3rd quartile`, we can also see that the majority of values in the `OverallQual` column of this dataset lies between `5-7`. that is, more houses had an `overall quality of 5-7`.*"
   ]
  },
  {
   "cell_type": "code",
   "execution_count": 44,
   "id": "74b43bd1",
   "metadata": {},
   "outputs": [
    {
     "data": {
      "image/png": "[encoded data removed]",
      "text/plain": [
       "<Figure size 864x576 with 1 Axes>"
      ]
     },
     "metadata": {
      "needs_background": "light"
     },
     "output_type": "display_data"
    }
   ],
   "source": [
    "df['OverallCond'].plot(kind='box', figsize = (12,8), vert = False);\n",
    "plt.title('Distribution of Overall Condition of houses sold');"
   ]
  },
  {
   "cell_type": "markdown",
   "id": "918a2fe3",
   "metadata": {},
   "source": [
    "> *From the above plot, there are a few things to take away: we can see that, in the `OverallCond` column of this dataset, the minimum value of is `4` and the maximum value is `7`,  the median is `5` and we can also see the `1st` and `3rd` quartiles `5 and 6` respectively.*\n",
    "\n",
    "> We can also see that the majority of the overall condition of theses houses when they were sold were between `5 and 6`."
   ]
  },
  {
   "cell_type": "markdown",
   "id": "a7a6b75f",
   "metadata": {},
   "source": [
    "![purple-divider](https://user-images.githubusercontent.com/7065401/52071927-c1cd7100-2562-11e9-908a-dde91ba14e59.png)"
   ]
  },
  {
   "cell_type": "code",
   "execution_count": 28,
   "id": "bef9edf9",
   "metadata": {},
   "outputs": [
    {
     "data": {
      "text/html": [
       "<div>\n",
       "<style scoped>\n",
       "    .dataframe tbody tr th:only-of-type {\n",
       "        vertical-align: middle;\n",
       "    }\n",
       "\n",
       "    .dataframe tbody tr th {\n",
       "        vertical-align: top;\n",
       "    }\n",
       "\n",
       "    .dataframe thead th {\n",
       "        text-align: right;\n",
       "    }\n",
       "</style>\n",
       "<table border=\"1\" class=\"dataframe\">\n",
       "  <thead>\n",
       "    <tr style=\"text-align: right;\">\n",
       "      <th></th>\n",
       "      <th>HouseStyle</th>\n",
       "      <th>OverallQual</th>\n",
       "      <th>OverallCond</th>\n",
       "      <th>YearBuilt</th>\n",
       "      <th>RoofStyle</th>\n",
       "      <th>GarageCars</th>\n",
       "      <th>MoSold</th>\n",
       "      <th>YrSold</th>\n",
       "      <th>SaleCondition</th>\n",
       "      <th>SalePrice</th>\n",
       "    </tr>\n",
       "    <tr>\n",
       "      <th>Id</th>\n",
       "      <th></th>\n",
       "      <th></th>\n",
       "      <th></th>\n",
       "      <th></th>\n",
       "      <th></th>\n",
       "      <th></th>\n",
       "      <th></th>\n",
       "      <th></th>\n",
       "      <th></th>\n",
       "      <th></th>\n",
       "    </tr>\n",
       "  </thead>\n",
       "  <tbody>\n",
       "    <tr>\n",
       "      <th>1461</th>\n",
       "      <td>1Story</td>\n",
       "      <td>5</td>\n",
       "      <td>6</td>\n",
       "      <td>1961</td>\n",
       "      <td>Gable</td>\n",
       "      <td>1.0</td>\n",
       "      <td>6</td>\n",
       "      <td>2010</td>\n",
       "      <td>Normal</td>\n",
       "      <td>169277.052498</td>\n",
       "    </tr>\n",
       "    <tr>\n",
       "      <th>1462</th>\n",
       "      <td>1Story</td>\n",
       "      <td>6</td>\n",
       "      <td>6</td>\n",
       "      <td>1958</td>\n",
       "      <td>Hip</td>\n",
       "      <td>1.0</td>\n",
       "      <td>6</td>\n",
       "      <td>2010</td>\n",
       "      <td>Normal</td>\n",
       "      <td>187758.393989</td>\n",
       "    </tr>\n",
       "    <tr>\n",
       "      <th>1463</th>\n",
       "      <td>2Story</td>\n",
       "      <td>5</td>\n",
       "      <td>5</td>\n",
       "      <td>1997</td>\n",
       "      <td>Gable</td>\n",
       "      <td>2.0</td>\n",
       "      <td>3</td>\n",
       "      <td>2010</td>\n",
       "      <td>Normal</td>\n",
       "      <td>183583.683570</td>\n",
       "    </tr>\n",
       "    <tr>\n",
       "      <th>1464</th>\n",
       "      <td>2Story</td>\n",
       "      <td>6</td>\n",
       "      <td>6</td>\n",
       "      <td>1998</td>\n",
       "      <td>Gable</td>\n",
       "      <td>2.0</td>\n",
       "      <td>6</td>\n",
       "      <td>2010</td>\n",
       "      <td>Normal</td>\n",
       "      <td>179317.477511</td>\n",
       "    </tr>\n",
       "    <tr>\n",
       "      <th>1465</th>\n",
       "      <td>1Story</td>\n",
       "      <td>8</td>\n",
       "      <td>5</td>\n",
       "      <td>1992</td>\n",
       "      <td>Gable</td>\n",
       "      <td>2.0</td>\n",
       "      <td>1</td>\n",
       "      <td>2010</td>\n",
       "      <td>Normal</td>\n",
       "      <td>150730.079977</td>\n",
       "    </tr>\n",
       "  </tbody>\n",
       "</table>\n",
       "</div>"
      ],
      "text/plain": [
       "     HouseStyle  OverallQual  OverallCond  YearBuilt RoofStyle  GarageCars  \\\n",
       "Id                                                                           \n",
       "1461     1Story            5            6       1961     Gable         1.0   \n",
       "1462     1Story            6            6       1958       Hip         1.0   \n",
       "1463     2Story            5            5       1997     Gable         2.0   \n",
       "1464     2Story            6            6       1998     Gable         2.0   \n",
       "1465     1Story            8            5       1992     Gable         2.0   \n",
       "\n",
       "      MoSold  YrSold SaleCondition      SalePrice  \n",
       "Id                                                 \n",
       "1461       6    2010        Normal  169277.052498  \n",
       "1462       6    2010        Normal  187758.393989  \n",
       "1463       3    2010        Normal  183583.683570  \n",
       "1464       6    2010        Normal  179317.477511  \n",
       "1465       1    2010        Normal  150730.079977  "
      ]
     },
     "execution_count": 28,
     "metadata": {},
     "output_type": "execute_result"
    }
   ],
   "source": [
    "df.head(5)"
   ]
  },
  {
   "cell_type": "markdown",
   "id": "76f067d2",
   "metadata": {},
   "source": [
    "**TODO** - **We will try to look at the condition of the houses when they were sold.**"
   ]
  },
  {
   "cell_type": "code",
   "execution_count": 46,
   "id": "3ae4251c",
   "metadata": {},
   "outputs": [
    {
     "data": {
      "text/plain": [
       "Text(0.5, 1.0, 'Distribution of condition of houses sold')"
      ]
     },
     "execution_count": 46,
     "metadata": {},
     "output_type": "execute_result"
    },
    {
     "data": {
      "image/png": "[encoded data removed]",
      "text/plain": [
       "<Figure size 648x360 with 1 Axes>"
      ]
     },
     "metadata": {
      "needs_background": "light"
     },
     "output_type": "display_data"
    }
   ],
   "source": [
    "sns.countplot(y=df['SaleCondition']);\n",
    "plt.title('Distribution of condition of houses sold')"
   ]
  },
  {
   "cell_type": "markdown",
   "id": "967b9ace",
   "metadata": {},
   "source": [
    "> *From this Seaborn's countplot, we can clearly see that more houses with condition `Normal` were sold and houses of condition `AdjLand` rarely sold.*"
   ]
  },
  {
   "cell_type": "markdown",
   "id": "05f475d8",
   "metadata": {},
   "source": [
    "![purple-divider](https://user-images.githubusercontent.com/7065401/52071927-c1cd7100-2562-11e9-908a-dde91ba14e59.png)"
   ]
  },
  {
   "cell_type": "markdown",
   "id": "9d9a8e52",
   "metadata": {},
   "source": [
    "**What is the average sale price of the houses?**"
   ]
  },
  {
   "cell_type": "code",
   "execution_count": 48,
   "id": "d6077c17",
   "metadata": {},
   "outputs": [
    {
     "data": {
      "text/plain": [
       "Text(0.5, 1.0, 'Distribution of sale prices of houses sold')"
      ]
     },
     "execution_count": 48,
     "metadata": {},
     "output_type": "execute_result"
    },
    {
     "data": {
      "image/png": "[encoded data removed]",
      "text/plain": [
       "<Figure size 648x360 with 1 Axes>"
      ]
     },
     "metadata": {
      "needs_background": "light"
     },
     "output_type": "display_data"
    }
   ],
   "source": [
    "sns.histplot(x=df['SalePrice'], bins=20, kde=True);\n",
    "plt.xlabel('Sale Price($)')\n",
    "plt.title('Distribution of sale prices of houses sold')"
   ]
  },
  {
   "cell_type": "markdown",
   "id": "26149def",
   "metadata": {},
   "source": [
    "> *Here, we can say that the saleprice of the houses sold is normally distributed. and since it is dense around `$170000 -$190000`, it means that we have more number of hours that were sold within that range.*"
   ]
  },
  {
   "cell_type": "markdown",
   "id": "13b5b837",
   "metadata": {},
   "source": [
    "![purple-divider](https://user-images.githubusercontent.com/7065401/52071927-c1cd7100-2562-11e9-908a-dde91ba14e59.png)"
   ]
  },
  {
   "cell_type": "markdown",
   "id": "936f6404",
   "metadata": {},
   "source": [
    "**TODO** - **We will be using a pie chart to graphically show the distribution of the `House Style` of houses sold.**"
   ]
  },
  {
   "cell_type": "code",
   "execution_count": 46,
   "id": "8b2c80ed",
   "metadata": {},
   "outputs": [
    {
     "data": {
      "text/plain": [
       "1Story    745\n",
       "2Story    427\n",
       "1.5Fin    160\n",
       "SLvl       63\n",
       "SFoyer     46\n",
       "2.5Unf     13\n",
       "1.5Unf      5\n",
       "Name: HouseStyle, dtype: int64"
      ]
     },
     "execution_count": 46,
     "metadata": {},
     "output_type": "execute_result"
    }
   ],
   "source": [
    "af = df['HouseStyle'].value_counts()\n",
    "af"
   ]
  },
  {
   "cell_type": "code",
   "execution_count": 45,
   "id": "230a7d49",
   "metadata": {},
   "outputs": [
    {
     "data": {
      "image/png": "[encoded data removed]",
      "text/plain": [
       "<Figure size 1008x648 with 1 Axes>"
      ]
     },
     "metadata": {},
     "output_type": "display_data"
    }
   ],
   "source": [
    "af.plot(kind = 'pie', figsize = (14,9));\n",
    "plt.title('Distribution of House Style of houses sold');"
   ]
  },
  {
   "cell_type": "markdown",
   "id": "803a155e",
   "metadata": {},
   "source": [
    "> *We can clearly see that the majority of houses sold has the style `1Story` and we can also see that the house style of `1.5Unf` rarely sold, so as someone into real estate, i could buy more of `1Story` buildings because `Stats` show that they sell more.*"
   ]
  },
  {
   "cell_type": "markdown",
   "id": "8b2760b8",
   "metadata": {},
   "source": [
    "![purple-divider](https://user-images.githubusercontent.com/7065401/52071927-c1cd7100-2562-11e9-908a-dde91ba14e59.png)"
   ]
  },
  {
   "cell_type": "markdown",
   "id": "58e2a781",
   "metadata": {},
   "source": [
    "## Asking and Answering Questions\n",
    "\n",
    "TODO - **Here, we will be asking multiple questions about this dataset, questions like, `how many houses were built before 1960?`, `Percentage of houses sold for a particular month`, `Adding some column`, `Getting a list of different roof styles in the dataframe` etc.**\n",
    "\n",
    "> We will also be making use of python pandas library for manipulation, aggregation, applying conditions and making simple numeric calculations.\n",
    "\n",
    "> We will also be making use of python's matplotlib library to create a line graph.\n",
    "\n"
   ]
  },
  {
   "cell_type": "markdown",
   "id": "82f7f5a3",
   "metadata": {},
   "source": [
    "![purple-divider](https://user-images.githubusercontent.com/7065401/52071927-c1cd7100-2562-11e9-908a-dde91ba14e59.png)"
   ]
  },
  {
   "cell_type": "markdown",
   "id": "304a5038",
   "metadata": {},
   "source": [
    "#### Q1: TODO - What is the percentage of houses sold in january(1)?"
   ]
  },
  {
   "cell_type": "code",
   "execution_count": 64,
   "id": "8ccd042c",
   "metadata": {},
   "outputs": [
    {
     "name": "stdout",
     "output_type": "stream",
     "text": [
      "The percentage of houses sold in january is 0.7186166629238716%\n"
     ]
    }
   ],
   "source": [
    "house_perc = (df['MoSold']).sum()\n",
    "house_jan = (df['MoSold']==1).sum()\n",
    "percen = (house_jan/house_perc)*100\n",
    "print('The percentage of houses sold in january is {}%'.format(percen))"
   ]
  },
  {
   "cell_type": "markdown",
   "id": "ebd4cd5d",
   "metadata": {},
   "source": [
    "> The percentage of houses sold in the month of january is 0.72%. this means that houses were rarely sold in january, maybe because people are still trying to gather themselves for the year."
   ]
  },
  {
   "cell_type": "markdown",
   "id": "cf89e1fe",
   "metadata": {},
   "source": [
    "![purple-divider](https://user-images.githubusercontent.com/7065401/52071927-c1cd7100-2562-11e9-908a-dde91ba14e59.png)"
   ]
  },
  {
   "cell_type": "markdown",
   "id": "3ec33e30",
   "metadata": {},
   "source": [
    "#### Q2: TODO - How many houses with Abnormal condition where sold above $200000?"
   ]
  },
  {
   "cell_type": "code",
   "execution_count": 92,
   "id": "6d5d2d59",
   "metadata": {},
   "outputs": [
    {
     "data": {
      "text/plain": [
       "10"
      ]
     },
     "execution_count": 92,
     "metadata": {},
     "output_type": "execute_result"
    }
   ],
   "source": [
    "df[(df['SaleCondition'] =='Abnorml') & (df['SalePrice'] > 200000)].value_counts().sum()"
   ]
  },
  {
   "cell_type": "markdown",
   "id": "e9df01a5",
   "metadata": {},
   "source": [
    "> *We applied some conditions in order to answer this question using pandas. Then we now see that the number of houses with `Condition Abnormal` and was sold above `$200000` was `10`.*"
   ]
  },
  {
   "cell_type": "markdown",
   "id": "de1bd56f",
   "metadata": {},
   "source": [
    "![purple-divider](https://user-images.githubusercontent.com/7065401/52071927-c1cd7100-2562-11e9-908a-dde91ba14e59.png)"
   ]
  },
  {
   "cell_type": "markdown",
   "id": "fed0c672",
   "metadata": {},
   "source": [
    "#### Q3: TODO - What is the most loved(most sold) House style?"
   ]
  },
  {
   "cell_type": "code",
   "execution_count": 181,
   "id": "de4d8a5e",
   "metadata": {},
   "outputs": [
    {
     "data": {
      "text/plain": [
       "1Story    745\n",
       "2Story    427\n",
       "1.5Fin    160\n",
       "SLvl       63\n",
       "SFoyer     46\n",
       "2.5Unf     13\n",
       "1.5Unf      5\n",
       "Name: HouseStyle, dtype: int64"
      ]
     },
     "execution_count": 181,
     "metadata": {},
     "output_type": "execute_result"
    }
   ],
   "source": [
    "a = df['HouseStyle'].value_counts()\n",
    "a"
   ]
  },
  {
   "cell_type": "code",
   "execution_count": null,
   "id": "6c0869ec",
   "metadata": {},
   "outputs": [],
   "source": [
    "plt.plot(years, apples, 's-b')"
   ]
  },
  {
   "cell_type": "code",
   "execution_count": 197,
   "id": "43c2534e",
   "metadata": {},
   "outputs": [
    {
     "data": {
      "image/png": "[encoded data removed]",
      "text/plain": [
       "<Figure size 720x432 with 1 Axes>"
      ]
     },
     "metadata": {
      "needs_background": "light"
     },
     "output_type": "display_data"
    }
   ],
   "source": [
    "plt.figure(figsize=(10,6))\n",
    "plt.plot(a,'o--r' );\n",
    "plt.xlabel('House Style')\n",
    "plt.ylabel('Frequency')\n",
    "plt.title('What is the most loved house style?');"
   ]
  },
  {
   "cell_type": "markdown",
   "id": "a70ee976",
   "metadata": {},
   "source": [
    "> *Both the above line plot and the calculations made with pandas is communicating the same idea, clearly, by a high margin, the most loved(most sold) house style is the `1Story` House style and understandably so, maybe because it's affordable, not too big and okay for a family.*"
   ]
  },
  {
   "cell_type": "markdown",
   "id": "4137efba",
   "metadata": {},
   "source": [
    "![purple-divider](https://user-images.githubusercontent.com/7065401/52071927-c1cd7100-2562-11e9-908a-dde91ba14e59.png)"
   ]
  },
  {
   "cell_type": "markdown",
   "id": "3de8c819",
   "metadata": {},
   "source": [
    "#### Q4: TODO - Let's add some column `imga_col` that is a product of the `SalePrice` and `GarageCars`."
   ]
  },
  {
   "cell_type": "code",
   "execution_count": 100,
   "id": "07ad2d0d",
   "metadata": {},
   "outputs": [
    {
     "data": {
      "text/html": [
       "<div>\n",
       "<style scoped>\n",
       "    .dataframe tbody tr th:only-of-type {\n",
       "        vertical-align: middle;\n",
       "    }\n",
       "\n",
       "    .dataframe tbody tr th {\n",
       "        vertical-align: top;\n",
       "    }\n",
       "\n",
       "    .dataframe thead th {\n",
       "        text-align: right;\n",
       "    }\n",
       "</style>\n",
       "<table border=\"1\" class=\"dataframe\">\n",
       "  <thead>\n",
       "    <tr style=\"text-align: right;\">\n",
       "      <th></th>\n",
       "      <th>HouseStyle</th>\n",
       "      <th>OverallQual</th>\n",
       "      <th>OverallCond</th>\n",
       "      <th>YearBuilt</th>\n",
       "      <th>RoofStyle</th>\n",
       "      <th>GarageCars</th>\n",
       "      <th>MoSold</th>\n",
       "      <th>YrSold</th>\n",
       "      <th>SaleCondition</th>\n",
       "      <th>SalePrice</th>\n",
       "    </tr>\n",
       "    <tr>\n",
       "      <th>Id</th>\n",
       "      <th></th>\n",
       "      <th></th>\n",
       "      <th></th>\n",
       "      <th></th>\n",
       "      <th></th>\n",
       "      <th></th>\n",
       "      <th></th>\n",
       "      <th></th>\n",
       "      <th></th>\n",
       "      <th></th>\n",
       "    </tr>\n",
       "  </thead>\n",
       "  <tbody>\n",
       "    <tr>\n",
       "      <th>1461</th>\n",
       "      <td>1Story</td>\n",
       "      <td>5</td>\n",
       "      <td>6</td>\n",
       "      <td>1961</td>\n",
       "      <td>Gable</td>\n",
       "      <td>1.0</td>\n",
       "      <td>6</td>\n",
       "      <td>2010</td>\n",
       "      <td>Normal</td>\n",
       "      <td>169277.052498</td>\n",
       "    </tr>\n",
       "    <tr>\n",
       "      <th>1462</th>\n",
       "      <td>1Story</td>\n",
       "      <td>6</td>\n",
       "      <td>6</td>\n",
       "      <td>1958</td>\n",
       "      <td>Hip</td>\n",
       "      <td>1.0</td>\n",
       "      <td>6</td>\n",
       "      <td>2010</td>\n",
       "      <td>Normal</td>\n",
       "      <td>187758.393989</td>\n",
       "    </tr>\n",
       "    <tr>\n",
       "      <th>1463</th>\n",
       "      <td>2Story</td>\n",
       "      <td>5</td>\n",
       "      <td>5</td>\n",
       "      <td>1997</td>\n",
       "      <td>Gable</td>\n",
       "      <td>2.0</td>\n",
       "      <td>3</td>\n",
       "      <td>2010</td>\n",
       "      <td>Normal</td>\n",
       "      <td>183583.683570</td>\n",
       "    </tr>\n",
       "    <tr>\n",
       "      <th>1464</th>\n",
       "      <td>2Story</td>\n",
       "      <td>6</td>\n",
       "      <td>6</td>\n",
       "      <td>1998</td>\n",
       "      <td>Gable</td>\n",
       "      <td>2.0</td>\n",
       "      <td>6</td>\n",
       "      <td>2010</td>\n",
       "      <td>Normal</td>\n",
       "      <td>179317.477511</td>\n",
       "    </tr>\n",
       "    <tr>\n",
       "      <th>1465</th>\n",
       "      <td>1Story</td>\n",
       "      <td>8</td>\n",
       "      <td>5</td>\n",
       "      <td>1992</td>\n",
       "      <td>Gable</td>\n",
       "      <td>2.0</td>\n",
       "      <td>1</td>\n",
       "      <td>2010</td>\n",
       "      <td>Normal</td>\n",
       "      <td>150730.079977</td>\n",
       "    </tr>\n",
       "  </tbody>\n",
       "</table>\n",
       "</div>"
      ],
      "text/plain": [
       "     HouseStyle  OverallQual  OverallCond  YearBuilt RoofStyle  GarageCars  \\\n",
       "Id                                                                           \n",
       "1461     1Story            5            6       1961     Gable         1.0   \n",
       "1462     1Story            6            6       1958       Hip         1.0   \n",
       "1463     2Story            5            5       1997     Gable         2.0   \n",
       "1464     2Story            6            6       1998     Gable         2.0   \n",
       "1465     1Story            8            5       1992     Gable         2.0   \n",
       "\n",
       "      MoSold  YrSold SaleCondition      SalePrice  \n",
       "Id                                                 \n",
       "1461       6    2010        Normal  169277.052498  \n",
       "1462       6    2010        Normal  187758.393989  \n",
       "1463       3    2010        Normal  183583.683570  \n",
       "1464       6    2010        Normal  179317.477511  \n",
       "1465       1    2010        Normal  150730.079977  "
      ]
     },
     "execution_count": 100,
     "metadata": {},
     "output_type": "execute_result"
    }
   ],
   "source": [
    "df.head(5)"
   ]
  },
  {
   "cell_type": "code",
   "execution_count": 126,
   "id": "2194df91",
   "metadata": {},
   "outputs": [],
   "source": [
    "df['Imga_col'] = (df['SalePrice']*df['GarageCars'])"
   ]
  },
  {
   "cell_type": "code",
   "execution_count": 127,
   "id": "4355ab6d",
   "metadata": {},
   "outputs": [
    {
     "data": {
      "text/html": [
       "<div>\n",
       "<style scoped>\n",
       "    .dataframe tbody tr th:only-of-type {\n",
       "        vertical-align: middle;\n",
       "    }\n",
       "\n",
       "    .dataframe tbody tr th {\n",
       "        vertical-align: top;\n",
       "    }\n",
       "\n",
       "    .dataframe thead th {\n",
       "        text-align: right;\n",
       "    }\n",
       "</style>\n",
       "<table border=\"1\" class=\"dataframe\">\n",
       "  <thead>\n",
       "    <tr style=\"text-align: right;\">\n",
       "      <th></th>\n",
       "      <th>HouseStyle</th>\n",
       "      <th>OverallQual</th>\n",
       "      <th>OverallCond</th>\n",
       "      <th>YearBuilt</th>\n",
       "      <th>RoofStyle</th>\n",
       "      <th>GarageCars</th>\n",
       "      <th>MoSold</th>\n",
       "      <th>YrSold</th>\n",
       "      <th>SaleCondition</th>\n",
       "      <th>SalePrice</th>\n",
       "      <th>Imga_col</th>\n",
       "    </tr>\n",
       "    <tr>\n",
       "      <th>Id</th>\n",
       "      <th></th>\n",
       "      <th></th>\n",
       "      <th></th>\n",
       "      <th></th>\n",
       "      <th></th>\n",
       "      <th></th>\n",
       "      <th></th>\n",
       "      <th></th>\n",
       "      <th></th>\n",
       "      <th></th>\n",
       "      <th></th>\n",
       "    </tr>\n",
       "  </thead>\n",
       "  <tbody>\n",
       "    <tr>\n",
       "      <th>1461</th>\n",
       "      <td>1Story</td>\n",
       "      <td>5</td>\n",
       "      <td>6</td>\n",
       "      <td>1961</td>\n",
       "      <td>Gable</td>\n",
       "      <td>1.0</td>\n",
       "      <td>6</td>\n",
       "      <td>2010</td>\n",
       "      <td>Normal</td>\n",
       "      <td>169277.052498</td>\n",
       "      <td>169277.052498</td>\n",
       "    </tr>\n",
       "    <tr>\n",
       "      <th>1462</th>\n",
       "      <td>1Story</td>\n",
       "      <td>6</td>\n",
       "      <td>6</td>\n",
       "      <td>1958</td>\n",
       "      <td>Hip</td>\n",
       "      <td>1.0</td>\n",
       "      <td>6</td>\n",
       "      <td>2010</td>\n",
       "      <td>Normal</td>\n",
       "      <td>187758.393989</td>\n",
       "      <td>187758.393989</td>\n",
       "    </tr>\n",
       "    <tr>\n",
       "      <th>1463</th>\n",
       "      <td>2Story</td>\n",
       "      <td>5</td>\n",
       "      <td>5</td>\n",
       "      <td>1997</td>\n",
       "      <td>Gable</td>\n",
       "      <td>2.0</td>\n",
       "      <td>3</td>\n",
       "      <td>2010</td>\n",
       "      <td>Normal</td>\n",
       "      <td>183583.683570</td>\n",
       "      <td>367167.367139</td>\n",
       "    </tr>\n",
       "    <tr>\n",
       "      <th>1464</th>\n",
       "      <td>2Story</td>\n",
       "      <td>6</td>\n",
       "      <td>6</td>\n",
       "      <td>1998</td>\n",
       "      <td>Gable</td>\n",
       "      <td>2.0</td>\n",
       "      <td>6</td>\n",
       "      <td>2010</td>\n",
       "      <td>Normal</td>\n",
       "      <td>179317.477511</td>\n",
       "      <td>358634.955022</td>\n",
       "    </tr>\n",
       "    <tr>\n",
       "      <th>1465</th>\n",
       "      <td>1Story</td>\n",
       "      <td>8</td>\n",
       "      <td>5</td>\n",
       "      <td>1992</td>\n",
       "      <td>Gable</td>\n",
       "      <td>2.0</td>\n",
       "      <td>1</td>\n",
       "      <td>2010</td>\n",
       "      <td>Normal</td>\n",
       "      <td>150730.079977</td>\n",
       "      <td>301460.159953</td>\n",
       "    </tr>\n",
       "  </tbody>\n",
       "</table>\n",
       "</div>"
      ],
      "text/plain": [
       "     HouseStyle  OverallQual  OverallCond  YearBuilt RoofStyle  GarageCars  \\\n",
       "Id                                                                           \n",
       "1461     1Story            5            6       1961     Gable         1.0   \n",
       "1462     1Story            6            6       1958       Hip         1.0   \n",
       "1463     2Story            5            5       1997     Gable         2.0   \n",
       "1464     2Story            6            6       1998     Gable         2.0   \n",
       "1465     1Story            8            5       1992     Gable         2.0   \n",
       "\n",
       "      MoSold  YrSold SaleCondition      SalePrice       Imga_col  \n",
       "Id                                                                \n",
       "1461       6    2010        Normal  169277.052498  169277.052498  \n",
       "1462       6    2010        Normal  187758.393989  187758.393989  \n",
       "1463       3    2010        Normal  183583.683570  367167.367139  \n",
       "1464       6    2010        Normal  179317.477511  358634.955022  \n",
       "1465       1    2010        Normal  150730.079977  301460.159953  "
      ]
     },
     "execution_count": 127,
     "metadata": {},
     "output_type": "execute_result"
    }
   ],
   "source": [
    "df.head(5)"
   ]
  },
  {
   "cell_type": "markdown",
   "id": "adc23c88",
   "metadata": {},
   "source": [
    "> *Throuugh some simple mathematical calculations, we've been able to add a new column too our dataframe named `imga_col`.*"
   ]
  },
  {
   "cell_type": "markdown",
   "id": "56f5d77e",
   "metadata": {},
   "source": [
    "![purple-divider](https://user-images.githubusercontent.com/7065401/52071927-c1cd7100-2562-11e9-908a-dde91ba14e59.png)"
   ]
  },
  {
   "cell_type": "markdown",
   "id": "4843062c",
   "metadata": {},
   "source": [
    "#### Q5: TODO - what is the averge saleprice of houses sold before year 2008?"
   ]
  },
  {
   "cell_type": "code",
   "execution_count": 164,
   "id": "12b11cbb",
   "metadata": {},
   "outputs": [
    {
     "data": {
      "text/plain": [
       "181041.215123239"
      ]
     },
     "execution_count": 164,
     "metadata": {},
     "output_type": "execute_result"
    }
   ],
   "source": [
    "a = df[df['YrSold'] < 2008]\n",
    "a['SalePrice'].mean()"
   ]
  },
  {
   "cell_type": "markdown",
   "id": "9111960d",
   "metadata": {},
   "source": [
    "> *The average `SalePrice` of houses sold before year `2008` is `$181041.215`.*"
   ]
  },
  {
   "cell_type": "markdown",
   "id": "059c5a44",
   "metadata": {},
   "source": [
    "![purple-divider](https://user-images.githubusercontent.com/7065401/52071927-c1cd7100-2562-11e9-908a-dde91ba14e59.png)"
   ]
  },
  {
   "cell_type": "markdown",
   "id": "7d50e526",
   "metadata": {},
   "source": [
    "#### Q6: TODO - Retrieve a list of RoofStyles from the dataframe?"
   ]
  },
  {
   "cell_type": "code",
   "execution_count": 173,
   "id": "68894c16",
   "metadata": {},
   "outputs": [
    {
     "data": {
      "text/plain": [
       "array(['Gable', 'Hip', 'Gambrel', 'Flat', 'Mansard', 'Shed'], dtype=object)"
      ]
     },
     "execution_count": 173,
     "metadata": {},
     "output_type": "execute_result"
    }
   ],
   "source": [
    "df['RoofStyle'].unique()"
   ]
  },
  {
   "cell_type": "markdown",
   "id": "19be02e2",
   "metadata": {},
   "source": [
    "> *The list of `RoofStyle` include, `Gable`,`Hip`,`Gambrel`,`Flat`,`Mansard`, and `Shed`.*"
   ]
  },
  {
   "cell_type": "markdown",
   "id": "5cf4422b",
   "metadata": {},
   "source": [
    "![purple-divider](https://user-images.githubusercontent.com/7065401/52071927-c1cd7100-2562-11e9-908a-dde91ba14e59.png)"
   ]
  },
  {
   "cell_type": "markdown",
   "id": "10558276",
   "metadata": {},
   "source": [
    "#### Q7: TODO - What is the max garagecars of houses built before 1960?"
   ]
  },
  {
   "cell_type": "code",
   "execution_count": 110,
   "id": "9efb9134",
   "metadata": {},
   "outputs": [
    {
     "data": {
      "text/html": [
       "<div>\n",
       "<style scoped>\n",
       "    .dataframe tbody tr th:only-of-type {\n",
       "        vertical-align: middle;\n",
       "    }\n",
       "\n",
       "    .dataframe tbody tr th {\n",
       "        vertical-align: top;\n",
       "    }\n",
       "\n",
       "    .dataframe thead th {\n",
       "        text-align: right;\n",
       "    }\n",
       "</style>\n",
       "<table border=\"1\" class=\"dataframe\">\n",
       "  <thead>\n",
       "    <tr style=\"text-align: right;\">\n",
       "      <th></th>\n",
       "      <th>HouseStyle</th>\n",
       "      <th>OverallQual</th>\n",
       "      <th>OverallCond</th>\n",
       "      <th>YearBuilt</th>\n",
       "      <th>RoofStyle</th>\n",
       "      <th>GarageCars</th>\n",
       "      <th>MoSold</th>\n",
       "      <th>YrSold</th>\n",
       "      <th>SaleCondition</th>\n",
       "      <th>SalePrice</th>\n",
       "    </tr>\n",
       "    <tr>\n",
       "      <th>Id</th>\n",
       "      <th></th>\n",
       "      <th></th>\n",
       "      <th></th>\n",
       "      <th></th>\n",
       "      <th></th>\n",
       "      <th></th>\n",
       "      <th></th>\n",
       "      <th></th>\n",
       "      <th></th>\n",
       "      <th></th>\n",
       "    </tr>\n",
       "  </thead>\n",
       "  <tbody>\n",
       "    <tr>\n",
       "      <th>1461</th>\n",
       "      <td>1Story</td>\n",
       "      <td>5</td>\n",
       "      <td>6</td>\n",
       "      <td>1961</td>\n",
       "      <td>Gable</td>\n",
       "      <td>1.0</td>\n",
       "      <td>6</td>\n",
       "      <td>2010</td>\n",
       "      <td>Normal</td>\n",
       "      <td>169277.052498</td>\n",
       "    </tr>\n",
       "    <tr>\n",
       "      <th>1462</th>\n",
       "      <td>1Story</td>\n",
       "      <td>6</td>\n",
       "      <td>6</td>\n",
       "      <td>1958</td>\n",
       "      <td>Hip</td>\n",
       "      <td>1.0</td>\n",
       "      <td>6</td>\n",
       "      <td>2010</td>\n",
       "      <td>Normal</td>\n",
       "      <td>187758.393989</td>\n",
       "    </tr>\n",
       "    <tr>\n",
       "      <th>1463</th>\n",
       "      <td>2Story</td>\n",
       "      <td>5</td>\n",
       "      <td>5</td>\n",
       "      <td>1997</td>\n",
       "      <td>Gable</td>\n",
       "      <td>2.0</td>\n",
       "      <td>3</td>\n",
       "      <td>2010</td>\n",
       "      <td>Normal</td>\n",
       "      <td>183583.683570</td>\n",
       "    </tr>\n",
       "    <tr>\n",
       "      <th>1464</th>\n",
       "      <td>2Story</td>\n",
       "      <td>6</td>\n",
       "      <td>6</td>\n",
       "      <td>1998</td>\n",
       "      <td>Gable</td>\n",
       "      <td>2.0</td>\n",
       "      <td>6</td>\n",
       "      <td>2010</td>\n",
       "      <td>Normal</td>\n",
       "      <td>179317.477511</td>\n",
       "    </tr>\n",
       "    <tr>\n",
       "      <th>1465</th>\n",
       "      <td>1Story</td>\n",
       "      <td>8</td>\n",
       "      <td>5</td>\n",
       "      <td>1992</td>\n",
       "      <td>Gable</td>\n",
       "      <td>2.0</td>\n",
       "      <td>1</td>\n",
       "      <td>2010</td>\n",
       "      <td>Normal</td>\n",
       "      <td>150730.079977</td>\n",
       "    </tr>\n",
       "  </tbody>\n",
       "</table>\n",
       "</div>"
      ],
      "text/plain": [
       "     HouseStyle  OverallQual  OverallCond  YearBuilt RoofStyle  GarageCars  \\\n",
       "Id                                                                           \n",
       "1461     1Story            5            6       1961     Gable         1.0   \n",
       "1462     1Story            6            6       1958       Hip         1.0   \n",
       "1463     2Story            5            5       1997     Gable         2.0   \n",
       "1464     2Story            6            6       1998     Gable         2.0   \n",
       "1465     1Story            8            5       1992     Gable         2.0   \n",
       "\n",
       "      MoSold  YrSold SaleCondition      SalePrice  \n",
       "Id                                                 \n",
       "1461       6    2010        Normal  169277.052498  \n",
       "1462       6    2010        Normal  187758.393989  \n",
       "1463       3    2010        Normal  183583.683570  \n",
       "1464       6    2010        Normal  179317.477511  \n",
       "1465       1    2010        Normal  150730.079977  "
      ]
     },
     "execution_count": 110,
     "metadata": {},
     "output_type": "execute_result"
    }
   ],
   "source": [
    "df.head(5)"
   ]
  },
  {
   "cell_type": "code",
   "execution_count": 198,
   "id": "b2ce429b",
   "metadata": {},
   "outputs": [
    {
     "data": {
      "text/plain": [
       "5.0"
      ]
     },
     "execution_count": 198,
     "metadata": {},
     "output_type": "execute_result"
    }
   ],
   "source": [
    "befo_1960 = df[df['YearBuilt'] < 1960]\n",
    "befo_1960['GarageCars'].max()"
   ]
  },
  {
   "cell_type": "markdown",
   "id": "5e0c7636",
   "metadata": {},
   "source": [
    "> *Surprisingly, the maximum space `(GarageCars)` for cars provided in houses built before year 1960 that was sold, is `5`.*"
   ]
  },
  {
   "cell_type": "markdown",
   "id": "5c1bafff",
   "metadata": {},
   "source": [
    "![purple-divider](https://user-images.githubusercontent.com/7065401/52071927-c1cd7100-2562-11e9-908a-dde91ba14e59.png)"
   ]
  },
  {
   "cell_type": "markdown",
   "id": "f330f21d",
   "metadata": {},
   "source": [
    "#### Q8: TODO - Create a dataframe containing 10 Houses that are not styled 1Story with the highest Sale Prices"
   ]
  },
  {
   "cell_type": "code",
   "execution_count": 199,
   "id": "2c72b61e",
   "metadata": {},
   "outputs": [
    {
     "data": {
      "text/html": [
       "<div>\n",
       "<style scoped>\n",
       "    .dataframe tbody tr th:only-of-type {\n",
       "        vertical-align: middle;\n",
       "    }\n",
       "\n",
       "    .dataframe tbody tr th {\n",
       "        vertical-align: top;\n",
       "    }\n",
       "\n",
       "    .dataframe thead th {\n",
       "        text-align: right;\n",
       "    }\n",
       "</style>\n",
       "<table border=\"1\" class=\"dataframe\">\n",
       "  <thead>\n",
       "    <tr style=\"text-align: right;\">\n",
       "      <th></th>\n",
       "      <th>HouseStyle</th>\n",
       "      <th>OverallQual</th>\n",
       "      <th>OverallCond</th>\n",
       "      <th>YearBuilt</th>\n",
       "      <th>RoofStyle</th>\n",
       "      <th>GarageCars</th>\n",
       "      <th>MoSold</th>\n",
       "      <th>YrSold</th>\n",
       "      <th>SaleCondition</th>\n",
       "      <th>SalePrice</th>\n",
       "      <th>Imga_col</th>\n",
       "    </tr>\n",
       "    <tr>\n",
       "      <th>Id</th>\n",
       "      <th></th>\n",
       "      <th></th>\n",
       "      <th></th>\n",
       "      <th></th>\n",
       "      <th></th>\n",
       "      <th></th>\n",
       "      <th></th>\n",
       "      <th></th>\n",
       "      <th></th>\n",
       "      <th></th>\n",
       "      <th></th>\n",
       "    </tr>\n",
       "  </thead>\n",
       "  <tbody>\n",
       "    <tr>\n",
       "      <th>2251</th>\n",
       "      <td>2.5Unf</td>\n",
       "      <td>5</td>\n",
       "      <td>1</td>\n",
       "      <td>1900</td>\n",
       "      <td>Hip</td>\n",
       "      <td>1.0</td>\n",
       "      <td>1</td>\n",
       "      <td>2008</td>\n",
       "      <td>Normal</td>\n",
       "      <td>280618.132617</td>\n",
       "      <td>280618.132617</td>\n",
       "    </tr>\n",
       "    <tr>\n",
       "      <th>2797</th>\n",
       "      <td>1.5Fin</td>\n",
       "      <td>6</td>\n",
       "      <td>5</td>\n",
       "      <td>1962</td>\n",
       "      <td>Gable</td>\n",
       "      <td>2.0</td>\n",
       "      <td>10</td>\n",
       "      <td>2006</td>\n",
       "      <td>Normal</td>\n",
       "      <td>259423.859148</td>\n",
       "      <td>518847.718295</td>\n",
       "    </tr>\n",
       "    <tr>\n",
       "      <th>2823</th>\n",
       "      <td>2.5Unf</td>\n",
       "      <td>6</td>\n",
       "      <td>8</td>\n",
       "      <td>1935</td>\n",
       "      <td>Gable</td>\n",
       "      <td>2.0</td>\n",
       "      <td>12</td>\n",
       "      <td>2006</td>\n",
       "      <td>Normal</td>\n",
       "      <td>235419.373449</td>\n",
       "      <td>470838.746898</td>\n",
       "    </tr>\n",
       "    <tr>\n",
       "      <th>2754</th>\n",
       "      <td>1.5Fin</td>\n",
       "      <td>5</td>\n",
       "      <td>5</td>\n",
       "      <td>1925</td>\n",
       "      <td>Gable</td>\n",
       "      <td>3.0</td>\n",
       "      <td>7</td>\n",
       "      <td>2006</td>\n",
       "      <td>Normal</td>\n",
       "      <td>234492.248264</td>\n",
       "      <td>703476.744791</td>\n",
       "    </tr>\n",
       "    <tr>\n",
       "      <th>1667</th>\n",
       "      <td>2Story</td>\n",
       "      <td>8</td>\n",
       "      <td>5</td>\n",
       "      <td>2007</td>\n",
       "      <td>Gable</td>\n",
       "      <td>3.0</td>\n",
       "      <td>6</td>\n",
       "      <td>2009</td>\n",
       "      <td>Family</td>\n",
       "      <td>232991.025584</td>\n",
       "      <td>698973.076751</td>\n",
       "    </tr>\n",
       "    <tr>\n",
       "      <th>2629</th>\n",
       "      <td>2Story</td>\n",
       "      <td>10</td>\n",
       "      <td>5</td>\n",
       "      <td>2006</td>\n",
       "      <td>Hip</td>\n",
       "      <td>3.0</td>\n",
       "      <td>9</td>\n",
       "      <td>2006</td>\n",
       "      <td>Partial</td>\n",
       "      <td>228684.245138</td>\n",
       "      <td>686052.735414</td>\n",
       "    </tr>\n",
       "    <tr>\n",
       "      <th>1862</th>\n",
       "      <td>2Story</td>\n",
       "      <td>7</td>\n",
       "      <td>5</td>\n",
       "      <td>2000</td>\n",
       "      <td>Hip</td>\n",
       "      <td>4.0</td>\n",
       "      <td>10</td>\n",
       "      <td>2009</td>\n",
       "      <td>Normal</td>\n",
       "      <td>228156.372839</td>\n",
       "      <td>912625.491357</td>\n",
       "    </tr>\n",
       "    <tr>\n",
       "      <th>1857</th>\n",
       "      <td>2Story</td>\n",
       "      <td>5</td>\n",
       "      <td>7</td>\n",
       "      <td>1880</td>\n",
       "      <td>Gable</td>\n",
       "      <td>2.0</td>\n",
       "      <td>6</td>\n",
       "      <td>2009</td>\n",
       "      <td>Normal</td>\n",
       "      <td>225810.160292</td>\n",
       "      <td>451620.320584</td>\n",
       "    </tr>\n",
       "    <tr>\n",
       "      <th>2425</th>\n",
       "      <td>2Story</td>\n",
       "      <td>5</td>\n",
       "      <td>4</td>\n",
       "      <td>1935</td>\n",
       "      <td>Gable</td>\n",
       "      <td>3.0</td>\n",
       "      <td>11</td>\n",
       "      <td>2007</td>\n",
       "      <td>Family</td>\n",
       "      <td>223055.588672</td>\n",
       "      <td>669166.766017</td>\n",
       "    </tr>\n",
       "    <tr>\n",
       "      <th>2822</th>\n",
       "      <td>2Story</td>\n",
       "      <td>6</td>\n",
       "      <td>7</td>\n",
       "      <td>1928</td>\n",
       "      <td>Gable</td>\n",
       "      <td>3.0</td>\n",
       "      <td>12</td>\n",
       "      <td>2006</td>\n",
       "      <td>Normal</td>\n",
       "      <td>222438.699143</td>\n",
       "      <td>667316.097430</td>\n",
       "    </tr>\n",
       "  </tbody>\n",
       "</table>\n",
       "</div>"
      ],
      "text/plain": [
       "     HouseStyle  OverallQual  OverallCond  YearBuilt RoofStyle  GarageCars  \\\n",
       "Id                                                                           \n",
       "2251     2.5Unf            5            1       1900       Hip         1.0   \n",
       "2797     1.5Fin            6            5       1962     Gable         2.0   \n",
       "2823     2.5Unf            6            8       1935     Gable         2.0   \n",
       "2754     1.5Fin            5            5       1925     Gable         3.0   \n",
       "1667     2Story            8            5       2007     Gable         3.0   \n",
       "2629     2Story           10            5       2006       Hip         3.0   \n",
       "1862     2Story            7            5       2000       Hip         4.0   \n",
       "1857     2Story            5            7       1880     Gable         2.0   \n",
       "2425     2Story            5            4       1935     Gable         3.0   \n",
       "2822     2Story            6            7       1928     Gable         3.0   \n",
       "\n",
       "      MoSold  YrSold SaleCondition      SalePrice       Imga_col  \n",
       "Id                                                                \n",
       "2251       1    2008        Normal  280618.132617  280618.132617  \n",
       "2797      10    2006        Normal  259423.859148  518847.718295  \n",
       "2823      12    2006        Normal  235419.373449  470838.746898  \n",
       "2754       7    2006        Normal  234492.248264  703476.744791  \n",
       "1667       6    2009        Family  232991.025584  698973.076751  \n",
       "2629       9    2006       Partial  228684.245138  686052.735414  \n",
       "1862      10    2009        Normal  228156.372839  912625.491357  \n",
       "1857       6    2009        Normal  225810.160292  451620.320584  \n",
       "2425      11    2007        Family  223055.588672  669166.766017  \n",
       "2822      12    2006        Normal  222438.699143  667316.097430  "
      ]
     },
     "execution_count": 199,
     "metadata": {},
     "output_type": "execute_result"
    }
   ],
   "source": [
    "df[df['HouseStyle'] != '1Story'].sort_values('SalePrice', ascending=False).head(10)"
   ]
  },
  {
   "cell_type": "markdown",
   "id": "090918bd",
   "metadata": {},
   "source": [
    "> *We can see a reformatted dataframe that was sorted buy values of `SalePrice` in descending order.*"
   ]
  },
  {
   "cell_type": "markdown",
   "id": "8345adeb",
   "metadata": {},
   "source": [
    "### How many houses with overall Condition 4 was sold above 200000?"
   ]
  },
  {
   "cell_type": "code",
   "execution_count": 120,
   "id": "793531e7",
   "metadata": {},
   "outputs": [
    {
     "data": {
      "text/plain": [
       "8"
      ]
     },
     "execution_count": 120,
     "metadata": {},
     "output_type": "execute_result"
    }
   ],
   "source": [
    "df[(df['OverallCond'] == 4) & (df['SalePrice'] > 200000)].value_counts().sum()"
   ]
  },
  {
   "cell_type": "markdown",
   "id": "bf8ba3b5",
   "metadata": {},
   "source": [
    "> *Houses with overall condition `4` that was sold above `$200000` was `8`.*"
   ]
  },
  {
   "cell_type": "markdown",
   "id": "5ec85b62",
   "metadata": {},
   "source": [
    "![purple-divider](https://user-images.githubusercontent.com/7065401/52071927-c1cd7100-2562-11e9-908a-dde91ba14e59.png)"
   ]
  },
  {
   "cell_type": "markdown",
   "id": "2420ae10",
   "metadata": {},
   "source": [
    "## Inferences and Conclusion\n",
    "\n",
    "**TODO** - **In this analysis, alot of inferences have been drawn and here's quick look again at them:**\n",
    "\n",
    "\n"
   ]
  },
  {
   "cell_type": "markdown",
   "id": "daf3acb7",
   "metadata": {},
   "source": [
    "* Based on the data here, we can infer that the year house was built does not affect the price it's sold, however, style of houses sold over the years varied with only house style `1Story` maintaining a good number.\n",
    "\n",
    "* We also found out that houses were sold more in the month of june(1) and were rarely sold in December and January`(0.72%)`.\n",
    "\n",
    "* We also found out that houses with Overall Condition `5 & 6`(out of 10) were sold more, meaning that houses below or above that value were in the minority, and houses with Sale Condition `Normal` sold much more than the others.\n",
    "\n",
    "* `8` houses with an overall condition of `4` was sold above `$200000`.\n",
    "\n",
    "* From this dataset, we can infer that the `1Story` house style is loved most by buyers. etc."
   ]
  },
  {
   "cell_type": "markdown",
   "id": "ea6f489a",
   "metadata": {},
   "source": [
    "![purple-divider](https://user-images.githubusercontent.com/7065401/52071927-c1cd7100-2562-11e9-908a-dde91ba14e59.png)"
   ]
  },
  {
   "cell_type": "markdown",
   "id": "2f86cca3",
   "metadata": {},
   "source": [
    "## References and Future Work\n",
    "\n",
    "**TODO** - Check out the following resources to learn more on this topic:\n",
    "\n",
    "- `opendatasets` Python library: https://github.com/JovianML/opendatasets\n",
    "- `Pandas` user guide: https://pandas.pydata.org/docs/user_guide/index.html\n",
    "- `Matplotlib` user guide: https://matplotlib.org/3.3.1/users/index.html\n",
    "- `Seaborn` user guide & tutorial: https://seaborn.pydata.org/tutorial.html"
   ]
  }
 ],
 "metadata": {
  "kernelspec": {
   "display_name": "Python 3 (ipykernel)",
   "language": "python",
   "name": "python3"
  },
  "language_info": {
   "codemirror_mode": {
    "name": "ipython",
    "version": 3
   },
   "file_extension": ".py",
   "mimetype": "text/x-python",
   "name": "python",
   "nbconvert_exporter": "python",
   "pygments_lexer": "ipython3",
   "version": "3.9.12"
  }
 },
 "nbformat": 4,
 "nbformat_minor": 5
}
